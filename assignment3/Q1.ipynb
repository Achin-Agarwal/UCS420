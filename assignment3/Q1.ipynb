{
 "cells": [
  {
   "cell_type": "code",
   "execution_count": 1,
   "id": "efaca656-91c0-435f-a13d-924cd96c8425",
   "metadata": {},
   "outputs": [],
   "source": [
    "import pandas as pd"
   ]
  },
  {
   "cell_type": "code",
   "execution_count": 2,
   "id": "655ab6fb-fb23-45dd-83e3-fb4d3881301e",
   "metadata": {},
   "outputs": [],
   "source": [
    "data={\n",
    "    'Tid':[1,2,3,4,5,6,7,8,9,10],\n",
    "    'Refund':['Yes','No','No','Yes','No','No','Yes','No','No','No'],\n",
    "    'Marital Status':['Single','Married','Single','Married','Divorced','Married','Divorced','Single','Married','Single'],\n",
    "    'Taxable Income':['125K','100K','70K','120K','95K','60K','220K','85K','75K','90K'],\n",
    "    'Cheat':['No','No','No','No','Yes','No','No','Yes','No','Yes'],\n",
    "}"
   ]
  },
  {
   "cell_type": "code",
   "execution_count": 7,
   "id": "50397234-6f75-4279-8b4c-241d6e5c9caa",
   "metadata": {},
   "outputs": [],
   "source": [
    "df=pd.DataFrame(data)"
   ]
  },
  {
   "cell_type": "code",
   "execution_count": 10,
   "id": "650941ac-d554-4117-bb7b-b91a0d1ac086",
   "metadata": {},
   "outputs": [
    {
     "name": "stdout",
     "output_type": "stream",
     "text": [
      "   Tid Refund Marital Status Taxable Income Cheat\n",
      "0    1    Yes         Single           125K    No\n",
      "1    2     No        Married           100K    No\n",
      "2    3     No         Single            70K    No\n",
      "3    4    Yes        Married           120K    No\n",
      "4    5     No       Divorced            95K   Yes\n",
      "5    6     No        Married            60K    No\n",
      "6    7    Yes       Divorced           220K    No\n",
      "7    8     No         Single            85K   Yes\n",
      "8    9     No        Married            75K    No\n",
      "9   10     No         Single            90K   Yes\n"
     ]
    }
   ],
   "source": [
    "print(df)"
   ]
  },
  {
   "cell_type": "code",
   "execution_count": null,
   "id": "ace4c7a1-4711-43da-97aa-a153d878d5f0",
   "metadata": {},
   "outputs": [],
   "source": []
  }
 ],
 "metadata": {
  "kernelspec": {
   "display_name": "Python 3 (ipykernel)",
   "language": "python",
   "name": "python3"
  },
  "language_info": {
   "codemirror_mode": {
    "name": "ipython",
    "version": 3
   },
   "file_extension": ".py",
   "mimetype": "text/x-python",
   "name": "python",
   "nbconvert_exporter": "python",
   "pygments_lexer": "ipython3",
   "version": "3.12.4"
  }
 },
 "nbformat": 4,
 "nbformat_minor": 5
}
