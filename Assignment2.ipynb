{
 "cells": [
  {
   "cell_type": "markdown",
   "id": "0bddb0ce-3bae-46a8-ada0-bda0c4f7cc08",
   "metadata": {},
   "source": [
    "### 1. Create a List L that is defined as= [10, 20, 30, 40, 50, 60, 70, 80]. \n",
    "###      i. WAP to add 200 and 300 to L. \n",
    "###     ii. WAP to remove 10 and 30 from L. \n",
    "###    iii. WAP to sort L in ascending order. \n",
    "###     iv. WAP to sort L in descending order. "
   ]
  },
  {
   "cell_type": "code",
   "execution_count": 2,
   "id": "726842d9-8035-4d7a-96e9-a3cf5db06d54",
   "metadata": {},
   "outputs": [
    {
     "name": "stdout",
     "output_type": "stream",
     "text": [
      "[300, 200, 80, 70, 60, 50, 40, 20]\n"
     ]
    }
   ],
   "source": [
    "L = [10,20,30,40,50,60,70,80]\n",
    "L.append(200)\n",
    "L.append(300)\n",
    "L.remove(10)\n",
    "L.remove(30)\n",
    "L.sort()\n",
    "L.sort(reverse = True)\n",
    "print(L)"
   ]
  }
 ],
 "metadata": {
  "kernelspec": {
   "display_name": "Python 3 (ipykernel)",
   "language": "python",
   "name": "python3"
  },
  "language_info": {
   "codemirror_mode": {
    "name": "ipython",
    "version": 3
   },
   "file_extension": ".py",
   "mimetype": "text/x-python",
   "name": "python",
   "nbconvert_exporter": "python",
   "pygments_lexer": "ipython3",
   "version": "3.12.4"
  }
 },
 "nbformat": 4,
 "nbformat_minor": 5
}
