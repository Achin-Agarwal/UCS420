{
 "cells": [
  {
   "cell_type": "markdown",
   "id": "5f3c81bd-c55f-4bf7-9256-f9c0b1a55ccc",
   "metadata": {},
   "source": [
    "### Q.1 Create a dataset as follow in the table."
   ]
  },
  {
   "cell_type": "code",
   "execution_count": 3,
   "id": "efaca656-91c0-435f-a13d-924cd96c8425",
   "metadata": {},
   "outputs": [
    {
     "name": "stdout",
     "output_type": "stream",
     "text": [
      "   Tid Refund Marital Status Taxable Income Cheat\n",
      "0    1    Yes         Single           125K    No\n",
      "1    2     No        Married           100K    No\n",
      "2    3     No         Single            70K    No\n",
      "3    4    Yes        Married           120K    No\n",
      "4    5     No       Divorced            95K   Yes\n",
      "5    6     No        Married            60K    No\n",
      "6    7    Yes       Divorced           220K    No\n",
      "7    8     No         Single            85K   Yes\n",
      "8    9     No        Married            75K    No\n",
      "9   10     No         Single            90K   Yes\n"
     ]
    }
   ],
   "source": [
    "import pandas as pd\n",
    "data={\n",
    "    'Tid':[1,2,3,4,5,6,7,8,9,10],\n",
    "    'Refund':['Yes','No','No','Yes','No','No','Yes','No','No','No'],\n",
    "    'Marital Status':['Single','Married','Single','Married','Divorced','Married','Divorced','Single','Married','Single'],\n",
    "    'Taxable Income':['125K','100K','70K','120K','95K','60K','220K','85K','75K','90K'],\n",
    "    'Cheat':['No','No','No','No','Yes','No','No','Yes','No','Yes'],\n",
    "}\n",
    "df=pd.DataFrame(data)\n",
    "print(df)"
   ]
  },
  {
   "cell_type": "code",
   "execution_count": null,
   "id": "50160081-48af-4123-b23c-090677a5543d",
   "metadata": {},
   "outputs": [],
   "source": []
  }
 ],
 "metadata": {
  "kernelspec": {
   "display_name": "Python 3 (ipykernel)",
   "language": "python",
   "name": "python3"
  },
  "language_info": {
   "codemirror_mode": {
    "name": "ipython",
    "version": 3
   },
   "file_extension": ".py",
   "mimetype": "text/x-python",
   "name": "python",
   "nbconvert_exporter": "python",
   "pygments_lexer": "ipython3",
   "version": "3.12.4"
  }
 },
 "nbformat": 4,
 "nbformat_minor": 5
}
