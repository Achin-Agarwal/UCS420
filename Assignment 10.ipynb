{
 "cells": [
  {
   "cell_type": "markdown",
   "id": "7d05e022-631a-43df-a9f7-f0b9e15b42da",
   "metadata": {
    "id": "7d05e022-631a-43df-a9f7-f0b9e15b42da"
   },
   "source": [
    "# Q1. Write a unique paragraph (5-6 sentences) about your favorite topic (e.g., sports, technology, food, books, etc.).\n",
    "1. Convert text to lowercase and remove punctuaƟon using re.\n",
    "2. Tokenize the text into words and sentences.\n",
    "3. Split using split() and word_tokenize() and compare how Python split and NLTK’sword_tokenize() differ.\n",
    "4. Remove stopwords (using NLTK's stopwords list).\n",
    "5. Display word frequency distribuƟon (excluding stopwords)."
   ]
  },
  {
   "cell_type": "code",
   "execution_count": 3,
   "id": "56aa6f26-d150-4e87-9297-f9a45dd0f86a",
   "metadata": {},
   "outputs": [
    {
     "name": "stdout",
     "output_type": "stream",
     "text": [
      "Requirement already satisfied: nltk in c:\\users\\dell\\appdata\\roaming\\python\\python312\\site-packages (3.9.1)\n",
      "Requirement already satisfied: click in c:\\python312\\lib\\site-packages (from nltk) (8.1.8)\n",
      "Requirement already satisfied: joblib in c:\\python312\\lib\\site-packages (from nltk) (1.4.2)\n",
      "Requirement already satisfied: regex>=2021.8.3 in c:\\python312\\lib\\site-packages (from nltk) (2024.11.6)\n",
      "Requirement already satisfied: tqdm in c:\\python312\\lib\\site-packages (from nltk) (4.67.1)\n",
      "Requirement already satisfied: colorama in c:\\python312\\lib\\site-packages (from click->nltk) (0.4.6)\n"
     ]
    },
    {
     "name": "stderr",
     "output_type": "stream",
     "text": [
      "[nltk_data] Downloading package punkt_tab to\n",
      "[nltk_data]     C:\\Users\\DELL\\AppData\\Roaming\\nltk_data...\n",
      "[nltk_data]   Package punkt_tab is already up-to-date!\n",
      "[nltk_data] Downloading package punkt to\n",
      "[nltk_data]     C:\\Users\\DELL\\AppData\\Roaming\\nltk_data...\n",
      "[nltk_data]   Package punkt is already up-to-date!\n",
      "[nltk_data] Downloading package stopwords to\n",
      "[nltk_data]     C:\\Users\\DELL\\AppData\\Roaming\\nltk_data...\n",
      "[nltk_data]   Package stopwords is already up-to-date!\n"
     ]
    },
    {
     "data": {
      "text/plain": [
       "True"
      ]
     },
     "execution_count": 3,
     "metadata": {},
     "output_type": "execute_result"
    }
   ],
   "source": [
    "# Install NLTK (if not done)\n",
    "!pip install nltk\n",
    "\n",
    "# Import and download resources\n",
    "import nltk\n",
    "nltk.download('punkt_tab')\n",
    "nltk.download('punkt')\n",
    "nltk.download('stopwords')"
   ]
  },
  {
   "cell_type": "code",
   "execution_count": 4,
   "id": "c9b7d84a-8197-46fb-a1b1-bd4c25c554b2",
   "metadata": {
    "id": "c9b7d84a-8197-46fb-a1b1-bd4c25c554b2"
   },
   "outputs": [],
   "source": [
    "sentence = \"\"\"Oceans cover more than 70% of the Earth's surface and are essential to life on our planet. They regulate the climate, absorb carbon dioxide, and produce over half of the world's oxygen through marine plants like phytoplankton. Oceans act as the Earth's lungs and help stabilize global temperatures by absorbing heat from the atmosphere.\n",
    "\n",
    "Beyond their environmental importance, oceans are home to a vast array of biodiversity. From tiny plankton to the largest whales, millions of species inhabit ocean waters. Coral reefs, often called the \"rainforests of the sea,\" support an incredible range of marine life and are vital to the balance of marine ecosystems. Protecting these habitats is crucial for maintaining the planet’s biodiversity.\n",
    "\n",
    "Oceans also play a key role in human economies and cultures. They provide food, transportation routes, and jobs for billions of people around the world. Coastal communities especially rely on the sea for their livelihoods, whether through fishing, tourism, or trade. However, pollution, overfishing, and climate change pose serious threats to ocean health, making conservation efforts more important than ever.\"\"\""
   ]
  },
  {
   "cell_type": "code",
   "execution_count": 5,
   "id": "87d44962-ec72-4f01-8674-fdeedb166606",
   "metadata": {
    "id": "87d44962-ec72-4f01-8674-fdeedb166606",
    "outputId": "35297033-0c72-4c04-9a91-e49ecfb04d8e"
   },
   "outputs": [
    {
     "data": {
      "text/plain": [
       "'oceans cover more than 70 of the earths surface and are essential to life on our planet they regulate the climate absorb carbon dioxide and produce over half of the worlds oxygen through marine plants like phytoplankton oceans act as the earths lungs and help stabilize global temperatures by absorbing heat from the atmosphere\\n\\nbeyond their environmental importance oceans are home to a vast array of biodiversity from tiny plankton to the largest whales millions of species inhabit ocean waters coral reefs often called the rainforests of the sea support an incredible range of marine life and are vital to the balance of marine ecosystems protecting these habitats is crucial for maintaining the planets biodiversity\\n\\noceans also play a key role in human economies and cultures they provide food transportation routes and jobs for billions of people around the world coastal communities especially rely on the sea for their livelihoods whether through fishing tourism or trade however pollution overfishing and climate change pose serious threats to ocean health making conservation efforts more important than ever'"
      ]
     },
     "execution_count": 5,
     "metadata": {},
     "output_type": "execute_result"
    }
   ],
   "source": [
    "import re\n",
    "text_clean = re.sub(r'[^\\w\\s\\-]','' , sentence.lower())\n",
    "text_clean"
   ]
  },
  {
   "cell_type": "code",
   "execution_count": 6,
   "id": "21dd8ac8-9986-48bc-a0e7-560af3b443d1",
   "metadata": {
    "id": "21dd8ac8-9986-48bc-a0e7-560af3b443d1",
    "outputId": "5cb2c5af-5436-4fd3-cd1a-04b176807cc7"
   },
   "outputs": [
    {
     "name": "stderr",
     "output_type": "stream",
     "text": [
      "[nltk_data] Downloading package punkt to\n",
      "[nltk_data]     C:\\Users\\DELL\\AppData\\Roaming\\nltk_data...\n",
      "[nltk_data]   Package punkt is already up-to-date!\n"
     ]
    },
    {
     "data": {
      "text/plain": [
       "True"
      ]
     },
     "execution_count": 6,
     "metadata": {},
     "output_type": "execute_result"
    }
   ],
   "source": [
    "from nltk.tokenize import word_tokenize, sent_tokenize\n",
    "nltk.download('punkt')"
   ]
  },
  {
   "cell_type": "code",
   "execution_count": 7,
   "id": "d7370966-ffba-4552-9a24-031dc0135f7e",
   "metadata": {
    "id": "d7370966-ffba-4552-9a24-031dc0135f7e"
   },
   "outputs": [
    {
     "data": {
      "text/plain": [
       "['oceans',\n",
       " 'cover',\n",
       " 'more',\n",
       " 'than',\n",
       " '70',\n",
       " 'of',\n",
       " 'the',\n",
       " 'earths',\n",
       " 'surface',\n",
       " 'and',\n",
       " 'are',\n",
       " 'essential',\n",
       " 'to',\n",
       " 'life',\n",
       " 'on',\n",
       " 'our',\n",
       " 'planet',\n",
       " 'they',\n",
       " 'regulate',\n",
       " 'the',\n",
       " 'climate',\n",
       " 'absorb',\n",
       " 'carbon',\n",
       " 'dioxide',\n",
       " 'and',\n",
       " 'produce',\n",
       " 'over',\n",
       " 'half',\n",
       " 'of',\n",
       " 'the',\n",
       " 'worlds',\n",
       " 'oxygen',\n",
       " 'through',\n",
       " 'marine',\n",
       " 'plants',\n",
       " 'like',\n",
       " 'phytoplankton',\n",
       " 'oceans',\n",
       " 'act',\n",
       " 'as',\n",
       " 'the',\n",
       " 'earths',\n",
       " 'lungs',\n",
       " 'and',\n",
       " 'help',\n",
       " 'stabilize',\n",
       " 'global',\n",
       " 'temperatures',\n",
       " 'by',\n",
       " 'absorbing',\n",
       " 'heat',\n",
       " 'from',\n",
       " 'the',\n",
       " 'atmosphere',\n",
       " 'beyond',\n",
       " 'their',\n",
       " 'environmental',\n",
       " 'importance',\n",
       " 'oceans',\n",
       " 'are',\n",
       " 'home',\n",
       " 'to',\n",
       " 'a',\n",
       " 'vast',\n",
       " 'array',\n",
       " 'of',\n",
       " 'biodiversity',\n",
       " 'from',\n",
       " 'tiny',\n",
       " 'plankton',\n",
       " 'to',\n",
       " 'the',\n",
       " 'largest',\n",
       " 'whales',\n",
       " 'millions',\n",
       " 'of',\n",
       " 'species',\n",
       " 'inhabit',\n",
       " 'ocean',\n",
       " 'waters',\n",
       " 'coral',\n",
       " 'reefs',\n",
       " 'often',\n",
       " 'called',\n",
       " 'the',\n",
       " 'rainforests',\n",
       " 'of',\n",
       " 'the',\n",
       " 'sea',\n",
       " 'support',\n",
       " 'an',\n",
       " 'incredible',\n",
       " 'range',\n",
       " 'of',\n",
       " 'marine',\n",
       " 'life',\n",
       " 'and',\n",
       " 'are',\n",
       " 'vital',\n",
       " 'to',\n",
       " 'the',\n",
       " 'balance',\n",
       " 'of',\n",
       " 'marine',\n",
       " 'ecosystems',\n",
       " 'protecting',\n",
       " 'these',\n",
       " 'habitats',\n",
       " 'is',\n",
       " 'crucial',\n",
       " 'for',\n",
       " 'maintaining',\n",
       " 'the',\n",
       " 'planets',\n",
       " 'biodiversity',\n",
       " 'oceans',\n",
       " 'also',\n",
       " 'play',\n",
       " 'a',\n",
       " 'key',\n",
       " 'role',\n",
       " 'in',\n",
       " 'human',\n",
       " 'economies',\n",
       " 'and',\n",
       " 'cultures',\n",
       " 'they',\n",
       " 'provide',\n",
       " 'food',\n",
       " 'transportation',\n",
       " 'routes',\n",
       " 'and',\n",
       " 'jobs',\n",
       " 'for',\n",
       " 'billions',\n",
       " 'of',\n",
       " 'people',\n",
       " 'around',\n",
       " 'the',\n",
       " 'world',\n",
       " 'coastal',\n",
       " 'communities',\n",
       " 'especially',\n",
       " 'rely',\n",
       " 'on',\n",
       " 'the',\n",
       " 'sea',\n",
       " 'for',\n",
       " 'their',\n",
       " 'livelihoods',\n",
       " 'whether',\n",
       " 'through',\n",
       " 'fishing',\n",
       " 'tourism',\n",
       " 'or',\n",
       " 'trade',\n",
       " 'however',\n",
       " 'pollution',\n",
       " 'overfishing',\n",
       " 'and',\n",
       " 'climate',\n",
       " 'change',\n",
       " 'pose',\n",
       " 'serious',\n",
       " 'threats',\n",
       " 'to',\n",
       " 'ocean',\n",
       " 'health',\n",
       " 'making',\n",
       " 'conservation',\n",
       " 'efforts',\n",
       " 'more',\n",
       " 'important',\n",
       " 'than',\n",
       " 'ever']"
      ]
     },
     "execution_count": 7,
     "metadata": {},
     "output_type": "execute_result"
    }
   ],
   "source": [
    "sentence_token = sent_tokenize(sentence)\n",
    "\n",
    "word_token = word_tokenize(text_clean)\n",
    "split_token = text_clean.split()\n",
    "sentence_token\n",
    "word_token\n",
    "split_token\n",
    "# split() just splits by spaces → can't handle hyphenated or compound words.\n",
    "# word_tokenize() from NLTK is smarter → recognizes hyphenated terms, contractions, etc."
   ]
  },
  {
   "cell_type": "code",
   "execution_count": 8,
   "id": "c3d496a9-160e-48a0-8a43-4000b24d15ce",
   "metadata": {
    "id": "c3d496a9-160e-48a0-8a43-4000b24d15ce",
    "outputId": "dcc24269-3528-48a9-f8c4-27dbcc66a388"
   },
   "outputs": [
    {
     "name": "stderr",
     "output_type": "stream",
     "text": [
      "[nltk_data] Downloading package stopwords to\n",
      "[nltk_data]     C:\\Users\\DELL\\AppData\\Roaming\\nltk_data...\n",
      "[nltk_data]   Package stopwords is already up-to-date!\n"
     ]
    },
    {
     "data": {
      "text/plain": [
       "{'a',\n",
       " 'about',\n",
       " 'above',\n",
       " 'after',\n",
       " 'again',\n",
       " 'against',\n",
       " 'ain',\n",
       " 'all',\n",
       " 'am',\n",
       " 'an',\n",
       " 'and',\n",
       " 'any',\n",
       " 'are',\n",
       " 'aren',\n",
       " \"aren't\",\n",
       " 'as',\n",
       " 'at',\n",
       " 'be',\n",
       " 'because',\n",
       " 'been',\n",
       " 'before',\n",
       " 'being',\n",
       " 'below',\n",
       " 'between',\n",
       " 'both',\n",
       " 'but',\n",
       " 'by',\n",
       " 'can',\n",
       " 'couldn',\n",
       " \"couldn't\",\n",
       " 'd',\n",
       " 'did',\n",
       " 'didn',\n",
       " \"didn't\",\n",
       " 'do',\n",
       " 'does',\n",
       " 'doesn',\n",
       " \"doesn't\",\n",
       " 'doing',\n",
       " 'don',\n",
       " \"don't\",\n",
       " 'down',\n",
       " 'during',\n",
       " 'each',\n",
       " 'few',\n",
       " 'for',\n",
       " 'from',\n",
       " 'further',\n",
       " 'had',\n",
       " 'hadn',\n",
       " \"hadn't\",\n",
       " 'has',\n",
       " 'hasn',\n",
       " \"hasn't\",\n",
       " 'have',\n",
       " 'haven',\n",
       " \"haven't\",\n",
       " 'having',\n",
       " 'he',\n",
       " \"he'd\",\n",
       " \"he'll\",\n",
       " \"he's\",\n",
       " 'her',\n",
       " 'here',\n",
       " 'hers',\n",
       " 'herself',\n",
       " 'him',\n",
       " 'himself',\n",
       " 'his',\n",
       " 'how',\n",
       " 'i',\n",
       " \"i'd\",\n",
       " \"i'll\",\n",
       " \"i'm\",\n",
       " \"i've\",\n",
       " 'if',\n",
       " 'in',\n",
       " 'into',\n",
       " 'is',\n",
       " 'isn',\n",
       " \"isn't\",\n",
       " 'it',\n",
       " \"it'd\",\n",
       " \"it'll\",\n",
       " \"it's\",\n",
       " 'its',\n",
       " 'itself',\n",
       " 'just',\n",
       " 'll',\n",
       " 'm',\n",
       " 'ma',\n",
       " 'me',\n",
       " 'mightn',\n",
       " \"mightn't\",\n",
       " 'more',\n",
       " 'most',\n",
       " 'mustn',\n",
       " \"mustn't\",\n",
       " 'my',\n",
       " 'myself',\n",
       " 'needn',\n",
       " \"needn't\",\n",
       " 'no',\n",
       " 'nor',\n",
       " 'not',\n",
       " 'now',\n",
       " 'o',\n",
       " 'of',\n",
       " 'off',\n",
       " 'on',\n",
       " 'once',\n",
       " 'only',\n",
       " 'or',\n",
       " 'other',\n",
       " 'our',\n",
       " 'ours',\n",
       " 'ourselves',\n",
       " 'out',\n",
       " 'over',\n",
       " 'own',\n",
       " 're',\n",
       " 's',\n",
       " 'same',\n",
       " 'shan',\n",
       " \"shan't\",\n",
       " 'she',\n",
       " \"she'd\",\n",
       " \"she'll\",\n",
       " \"she's\",\n",
       " 'should',\n",
       " \"should've\",\n",
       " 'shouldn',\n",
       " \"shouldn't\",\n",
       " 'so',\n",
       " 'some',\n",
       " 'such',\n",
       " 't',\n",
       " 'than',\n",
       " 'that',\n",
       " \"that'll\",\n",
       " 'the',\n",
       " 'their',\n",
       " 'theirs',\n",
       " 'them',\n",
       " 'themselves',\n",
       " 'then',\n",
       " 'there',\n",
       " 'these',\n",
       " 'they',\n",
       " \"they'd\",\n",
       " \"they'll\",\n",
       " \"they're\",\n",
       " \"they've\",\n",
       " 'this',\n",
       " 'those',\n",
       " 'through',\n",
       " 'to',\n",
       " 'too',\n",
       " 'under',\n",
       " 'until',\n",
       " 'up',\n",
       " 've',\n",
       " 'very',\n",
       " 'was',\n",
       " 'wasn',\n",
       " \"wasn't\",\n",
       " 'we',\n",
       " \"we'd\",\n",
       " \"we'll\",\n",
       " \"we're\",\n",
       " \"we've\",\n",
       " 'were',\n",
       " 'weren',\n",
       " \"weren't\",\n",
       " 'what',\n",
       " 'when',\n",
       " 'where',\n",
       " 'which',\n",
       " 'while',\n",
       " 'who',\n",
       " 'whom',\n",
       " 'why',\n",
       " 'will',\n",
       " 'with',\n",
       " 'won',\n",
       " \"won't\",\n",
       " 'wouldn',\n",
       " \"wouldn't\",\n",
       " 'y',\n",
       " 'you',\n",
       " \"you'd\",\n",
       " \"you'll\",\n",
       " \"you're\",\n",
       " \"you've\",\n",
       " 'your',\n",
       " 'yours',\n",
       " 'yourself',\n",
       " 'yourselves'}"
      ]
     },
     "execution_count": 8,
     "metadata": {},
     "output_type": "execute_result"
    }
   ],
   "source": [
    "from nltk.corpus import stopwords\n",
    "from collections import Counter\n",
    "nltk.download('stopwords')\n",
    "stop_words = set(stopwords.words('english'))\n",
    "stop_words"
   ]
  },
  {
   "cell_type": "code",
   "execution_count": 7,
   "id": "c82c6a4b-7f2a-4baa-86fb-355cd3dd03c7",
   "metadata": {
    "id": "c82c6a4b-7f2a-4baa-86fb-355cd3dd03c7",
    "outputId": "75b0523c-0756-4fbc-c1ca-c5f8493c652a"
   },
   "outputs": [
    {
     "name": "stdout",
     "output_type": "stream",
     "text": [
      "Counter({'oceans': 4, 'marine': 3, 'earths': 2, 'life': 2, 'climate': 2, 'biodiversity': 2, 'ocean': 2, 'sea': 2, 'cover': 1, '70': 1, 'surface': 1, 'essential': 1, 'planet': 1, 'regulate': 1, 'absorb': 1, 'carbon': 1, 'dioxide': 1, 'produce': 1, 'half': 1, 'worlds': 1, 'oxygen': 1, 'plants': 1, 'like': 1, 'phytoplankton': 1, 'act': 1, 'lungs': 1, 'help': 1, 'stabilize': 1, 'global': 1, 'temperatures': 1, 'absorbing': 1, 'heat': 1, 'atmosphere': 1, 'beyond': 1, 'environmental': 1, 'importance': 1, 'home': 1, 'vast': 1, 'array': 1, 'tiny': 1, 'plankton': 1, 'largest': 1, 'whales': 1, 'millions': 1, 'species': 1, 'inhabit': 1, 'waters': 1, 'coral': 1, 'reefs': 1, 'often': 1, 'called': 1, 'rainforests': 1, 'support': 1, 'incredible': 1, 'range': 1, 'vital': 1, 'balance': 1, 'ecosystems': 1, 'protecting': 1, 'habitats': 1, 'crucial': 1, 'maintaining': 1, 'planets': 1, 'also': 1, 'play': 1, 'key': 1, 'role': 1, 'human': 1, 'economies': 1, 'cultures': 1, 'provide': 1, 'food': 1, 'transportation': 1, 'routes': 1, 'jobs': 1, 'billions': 1, 'people': 1, 'around': 1, 'world': 1, 'coastal': 1, 'communities': 1, 'especially': 1, 'rely': 1, 'livelihoods': 1, 'whether': 1, 'fishing': 1, 'tourism': 1, 'trade': 1, 'however': 1, 'pollution': 1, 'overfishing': 1, 'change': 1, 'pose': 1, 'serious': 1, 'threats': 1, 'health': 1, 'making': 1, 'conservation': 1, 'efforts': 1, 'important': 1, 'ever': 1})\n"
     ]
    }
   ],
   "source": [
    "filtered = [w for w in word_token if w.lower() not in stop_words]\n",
    "frequencies = Counter(filtered)\n",
    "print(frequencies)"
   ]
  },
  {
   "cell_type": "markdown",
   "id": "7d38e698-2e3c-4efd-a709-904a33271223",
   "metadata": {
    "id": "7d38e698-2e3c-4efd-a709-904a33271223"
   },
   "source": [
    "---\n",
    "# Q2. Using the same paragraph from Q1:\n",
    "1. Extract all words with only alphabets using re.findall()\n",
    "2. Remove stop words using NLTK’s stopword list\n",
    "3. Perform stemming with PorterStemmer\n",
    "4. Perform lemmaƟzaƟon with WordNetLemmaƟzer\n",
    "5. Compare the stemmed and lemmaƟzed outputs and explain when you’d prefer one over\n",
    "the other."
   ]
  },
  {
   "cell_type": "code",
   "execution_count": 8,
   "id": "0e94c79e-1bad-4052-9bda-6c93ae37e094",
   "metadata": {
    "id": "0e94c79e-1bad-4052-9bda-6c93ae37e094",
    "outputId": "08670ff3-1060-4fae-8444-a97e8ff3318d"
   },
   "outputs": [
    {
     "name": "stdout",
     "output_type": "stream",
     "text": [
      "['oceans', 'cover', 'more', 'than', 'of', 'the', 'earths', 'surface', 'and', 'are', 'essential', 'to', 'life', 'on', 'our', 'planet', 'they', 'regulate', 'the', 'climate', 'absorb', 'carbon', 'dioxide', 'and', 'produce', 'over', 'half', 'of', 'the', 'worlds', 'oxygen', 'through', 'marine', 'plants', 'like', 'phytoplankton', 'oceans', 'act', 'as', 'the', 'earths', 'lungs', 'and', 'help', 'stabilize', 'global', 'temperatures', 'by', 'absorbing', 'heat', 'from', 'the', 'atmosphere', 'beyond', 'their', 'environmental', 'importance', 'oceans', 'are', 'home', 'to', 'a', 'vast', 'array', 'of', 'biodiversity', 'from', 'tiny', 'plankton', 'to', 'the', 'largest', 'whales', 'millions', 'of', 'species', 'inhabit', 'ocean', 'waters', 'coral', 'reefs', 'often', 'called', 'the', 'rainforests', 'of', 'the', 'sea', 'support', 'an', 'incredible', 'range', 'of', 'marine', 'life', 'and', 'are', 'vital', 'to', 'the', 'balance', 'of', 'marine', 'ecosystems', 'protecting', 'these', 'habitats', 'is', 'crucial', 'for', 'maintaining', 'the', 'planets', 'biodiversity', 'oceans', 'also', 'play', 'a', 'key', 'role', 'in', 'human', 'economies', 'and', 'cultures', 'they', 'provide', 'food', 'transportation', 'routes', 'and', 'jobs', 'for', 'billions', 'of', 'people', 'around', 'the', 'world', 'coastal', 'communities', 'especially', 'rely', 'on', 'the', 'sea', 'for', 'their', 'livelihoods', 'whether', 'through', 'fishing', 'tourism', 'or', 'trade', 'however', 'pollution', 'overfishing', 'and', 'climate', 'change', 'pose', 'serious', 'threats', 'to', 'ocean', 'health', 'making', 'conservation', 'efforts', 'more', 'important', 'than', 'ever']\n",
      "['oceans', 'cover', 'earths', 'surface', 'essential', 'life', 'planet', 'regulate', 'climate', 'absorb', 'carbon', 'dioxide', 'produce', 'half', 'worlds', 'oxygen', 'marine', 'plants', 'like', 'phytoplankton', 'oceans', 'act', 'earths', 'lungs', 'help', 'stabilize', 'global', 'temperatures', 'absorbing', 'heat', 'atmosphere', 'beyond', 'environmental', 'importance', 'oceans', 'home', 'vast', 'array', 'biodiversity', 'tiny', 'plankton', 'largest', 'whales', 'millions', 'species', 'inhabit', 'ocean', 'waters', 'coral', 'reefs', 'often', 'called', 'rainforests', 'sea', 'support', 'incredible', 'range', 'marine', 'life', 'vital', 'balance', 'marine', 'ecosystems', 'protecting', 'habitats', 'crucial', 'maintaining', 'planets', 'biodiversity', 'oceans', 'also', 'play', 'key', 'role', 'human', 'economies', 'cultures', 'provide', 'food', 'transportation', 'routes', 'jobs', 'billions', 'people', 'around', 'world', 'coastal', 'communities', 'especially', 'rely', 'sea', 'livelihoods', 'whether', 'fishing', 'tourism', 'trade', 'however', 'pollution', 'overfishing', 'climate', 'change', 'pose', 'serious', 'threats', 'ocean', 'health', 'making', 'conservation', 'efforts', 'important', 'ever']\n"
     ]
    }
   ],
   "source": [
    "import re\n",
    "alphas = re.findall(r'\\b[a-zA-Z]+\\b', text_clean)\n",
    "print(alphas)\n",
    "filter_alpha = [w for w in alphas if w not in stop_words]\n",
    "print(filter_alpha)"
   ]
  },
  {
   "cell_type": "code",
   "execution_count": 9,
   "id": "ba0bf76e-e13e-47e1-a049-b157dc7b6a93",
   "metadata": {
    "id": "ba0bf76e-e13e-47e1-a049-b157dc7b6a93",
    "outputId": "85f42c5f-67c8-48af-b6d8-40abaadc2b24"
   },
   "outputs": [
    {
     "name": "stdout",
     "output_type": "stream",
     "text": [
      "['ocean', 'cover', 'earth', 'surfac', 'essenti', 'life', 'planet', 'regul', 'climat', 'absorb', 'carbon', 'dioxid', 'produc', 'half', 'world', 'oxygen', 'marin', 'plant', 'like', 'phytoplankton', 'ocean', 'act', 'earth', 'lung', 'help', 'stabil', 'global', 'temperatur', 'absorb', 'heat', 'atmospher', 'beyond', 'environment', 'import', 'ocean', 'home', 'vast', 'array', 'biodivers', 'tini', 'plankton', 'largest', 'whale', 'million', 'speci', 'inhabit', 'ocean', 'water', 'coral', 'reef', 'often', 'call', 'rainforest', 'sea', 'support', 'incred', 'rang', 'marin', 'life', 'vital', 'balanc', 'marin', 'ecosystem', 'protect', 'habitat', 'crucial', 'maintain', 'planet', 'biodivers', 'ocean', 'also', 'play', 'key', 'role', 'human', 'economi', 'cultur', 'provid', 'food', 'transport', 'rout', 'job', 'billion', 'peopl', 'around', 'world', 'coastal', 'commun', 'especi', 'reli', 'sea', 'livelihood', 'whether', 'fish', 'tourism', 'trade', 'howev', 'pollut', 'overfish', 'climat', 'chang', 'pose', 'seriou', 'threat', 'ocean', 'health', 'make', 'conserv', 'effort', 'import', 'ever']\n"
     ]
    }
   ],
   "source": [
    "from nltk.stem import PorterStemmer\n",
    "porter = PorterStemmer()\n",
    "porter_stem = [porter.stem(w) for w in filter_alpha]\n",
    "print(porter_stem)"
   ]
  },
  {
   "cell_type": "code",
   "execution_count": 10,
   "id": "9ebb5e7c-064e-4d9b-9126-99b17f10619d",
   "metadata": {
    "id": "9ebb5e7c-064e-4d9b-9126-99b17f10619d",
    "outputId": "40c0175e-4658-4274-c2b7-89b0692f12b5"
   },
   "outputs": [
    {
     "name": "stderr",
     "output_type": "stream",
     "text": [
      "[nltk_data] Downloading package wordnet to\n",
      "[nltk_data]     C:\\Users\\DELL\\AppData\\Roaming\\nltk_data...\n",
      "[nltk_data]   Package wordnet is already up-to-date!\n",
      "[nltk_data] Downloading package omw-1.4 to\n",
      "[nltk_data]     C:\\Users\\DELL\\AppData\\Roaming\\nltk_data...\n",
      "[nltk_data]   Package omw-1.4 is already up-to-date!\n"
     ]
    },
    {
     "data": {
      "text/plain": [
       "True"
      ]
     },
     "execution_count": 10,
     "metadata": {},
     "output_type": "execute_result"
    }
   ],
   "source": [
    "from nltk.stem import WordNetLemmatizer\n",
    "nltk.download('wordnet')\n",
    "nltk.download('omw-1.4')"
   ]
  },
  {
   "cell_type": "code",
   "execution_count": 11,
   "id": "168e6a8b-57bb-463a-884c-659dc56bf5c4",
   "metadata": {
    "id": "168e6a8b-57bb-463a-884c-659dc56bf5c4",
    "outputId": "a4e067f9-1821-44d7-dff7-46db4f16f740"
   },
   "outputs": [
    {
     "name": "stdout",
     "output_type": "stream",
     "text": [
      "['ocean', 'cover', 'earth', 'surface', 'essential', 'life', 'planet', 'regulate', 'climate', 'absorb', 'carbon', 'dioxide', 'produce', 'half', 'world', 'oxygen', 'marine', 'plant', 'like', 'phytoplankton', 'ocean', 'act', 'earth', 'lung', 'help', 'stabilize', 'global', 'temperature', 'absorbing', 'heat', 'atmosphere', 'beyond', 'environmental', 'importance', 'ocean', 'home', 'vast', 'array', 'biodiversity', 'tiny', 'plankton', 'largest', 'whale', 'million', 'specie', 'inhabit', 'ocean', 'water', 'coral', 'reef', 'often', 'called', 'rainforest', 'sea', 'support', 'incredible', 'range', 'marine', 'life', 'vital', 'balance', 'marine', 'ecosystem', 'protecting', 'habitat', 'crucial', 'maintaining', 'planet', 'biodiversity', 'ocean', 'also', 'play', 'key', 'role', 'human', 'economy', 'culture', 'provide', 'food', 'transportation', 'route', 'job', 'billion', 'people', 'around', 'world', 'coastal', 'community', 'especially', 'rely', 'sea', 'livelihood', 'whether', 'fishing', 'tourism', 'trade', 'however', 'pollution', 'overfishing', 'climate', 'change', 'pose', 'serious', 'threat', 'ocean', 'health', 'making', 'conservation', 'effort', 'important', 'ever']\n"
     ]
    }
   ],
   "source": [
    "lemma = WordNetLemmatizer()\n",
    "lemmatized = [lemma.lemmatize(w) for w in filter_alpha]\n",
    "print(lemmatized)"
   ]
  },
  {
   "cell_type": "code",
   "execution_count": 12,
   "id": "35be7c13-e265-48da-b1d1-8fb4712082cb",
   "metadata": {
    "id": "35be7c13-e265-48da-b1d1-8fb4712082cb",
    "outputId": "73d7d07b-60d9-4458-9448-994791e0248b"
   },
   "outputs": [
    {
     "name": "stdout",
     "output_type": "stream",
     "text": [
      "oceans          | Stemmed: ocean        | Lemmatized: ocean\n",
      "cover           | Stemmed: cover        | Lemmatized: cover\n",
      "earths          | Stemmed: earth        | Lemmatized: earth\n",
      "surface         | Stemmed: surfac       | Lemmatized: surface\n",
      "essential       | Stemmed: essenti      | Lemmatized: essential\n",
      "life            | Stemmed: life         | Lemmatized: life\n",
      "planet          | Stemmed: planet       | Lemmatized: planet\n",
      "regulate        | Stemmed: regul        | Lemmatized: regulate\n",
      "climate         | Stemmed: climat       | Lemmatized: climate\n",
      "absorb          | Stemmed: absorb       | Lemmatized: absorb\n"
     ]
    }
   ],
   "source": [
    "for i in range(min(10, len(filter_alpha))):\n",
    "    print(f\"{filter_alpha[i]:<15} | Stemmed: {porter_stem[i]:<12} | Lemmatized: {lemmatized[i]}\")"
   ]
  },
  {
   "cell_type": "markdown",
   "id": "b1fdff3c-3d36-41f5-b189-8281976bfbdb",
   "metadata": {
    "id": "b1fdff3c-3d36-41f5-b189-8281976bfbdb"
   },
   "source": [
    "## Stemming:\n",
    "    - Fast and lightweight.\n",
    "    - Cuts off suffixes blindly.\n",
    "    - May produce non-words (e.g., intellig).\n",
    "    - Good for search engines or large-scale NLP pipelines.\n",
    "\n",
    "## Lemmatization:\n",
    "    - Slower but more accurate linguistically.\n",
    "    - Produces real words using vocab and POS context.\n",
    "    - Preferred for tasks like text classification, chatbots, or summarization."
   ]
  },
  {
   "cell_type": "markdown",
   "id": "4a578e36-a43e-40c8-9f56-ad7ff2ad4675",
   "metadata": {
    "id": "4a578e36-a43e-40c8-9f56-ad7ff2ad4675"
   },
   "source": [
    "---\n",
    "# Q3. Choose 3 short texts of your own (e.g., different news headlines, product reviews).\n",
    "1. Use CountVectorizer to generate the Bag of Words representaƟon.\n",
    "2. Use TfidfVectorizer to compute TF-IDF scores.\n",
    "3. Print and interpret the top 3 keywords from each text using TF-IDF.\n"
   ]
  },
  {
   "cell_type": "code",
   "execution_count": 13,
   "id": "e0da8009-f654-43ba-8a1c-93b34837f99a",
   "metadata": {
    "id": "e0da8009-f654-43ba-8a1c-93b34837f99a"
   },
   "outputs": [],
   "source": [
    "texts = [\n",
    "    \"UN Report Warns of Accelerating Climate Change Impacts on Coastal Cities\",\n",
    "    \"The battery life on this smartwatch is incredible—it lasts for nearly a week with regular use\",\n",
    "    \"ust got back from Bali—stunning beaches, amazing food, and the friendliest people. Highly recommend \"\n",
    "]"
   ]
  },
  {
   "cell_type": "code",
   "execution_count": 14,
   "id": "1793b20d-aafb-4bea-af65-5d9364c62dec",
   "metadata": {
    "id": "1793b20d-aafb-4bea-af65-5d9364c62dec"
   },
   "outputs": [],
   "source": [
    "from sklearn.feature_extraction.text import CountVectorizer\n",
    "cvector = CountVectorizer()"
   ]
  },
  {
   "cell_type": "code",
   "execution_count": 15,
   "id": "6475aab6-5042-4f23-9b38-ea2f81ea89eb",
   "metadata": {
    "id": "6475aab6-5042-4f23-9b38-ea2f81ea89eb"
   },
   "outputs": [],
   "source": [
    "bow_matrix = cvector.fit_transform(texts)\n",
    "bow_feature = cvector.get_feature_names_out()"
   ]
  },
  {
   "cell_type": "code",
   "execution_count": null,
   "id": "4d47d597-9988-4b93-b2e2-c15fe365a4de",
   "metadata": {
    "id": "4d47d597-9988-4b93-b2e2-c15fe365a4de",
    "outputId": "36d9014d-dc58-4230-ac48-3d1f5a0646d1"
   },
   "outputs": [
    {
     "name": "stdout",
     "output_type": "stream",
     "text": [
      "   accelerating  amazing  and  back  bali  battery  beaches  change  cities  \\\n",
      "0             1        0    0     0     0        0        0       1       1   \n",
      "1             0        0    0     0     0        1        0       0       0   \n",
      "2             0        1    1     1     1        0        1       0       0   \n",
      "\n",
      "   climate  ...  smartwatch  stunning  the  this  un  use  ust  warns  week  \\\n",
      "0        1  ...           0         0    0     0   1    0    0      1     0   \n",
      "1        0  ...           1         0    1     1   0    1    0      0     1   \n",
      "2        0  ...           0         1    1     0   0    0    1      0     0   \n",
      "\n",
      "   with  \n",
      "0     0  \n",
      "1     1  \n",
      "2     0  \n",
      "\n",
      "[3 rows x 40 columns]\n"
     ]
    }
   ],
   "source": [
    "import pandas as pd\n",
    "bow_df = pd.DataFrame(bow_matrix.toarray() , columns=bow_feature)\n",
    "print(bow_df) "
   ]
  },
  {
   "cell_type": "code",
   "execution_count": 17,
   "id": "c9856a6f-9a44-4d8b-9b32-d25e176da0ed",
   "metadata": {
    "id": "c9856a6f-9a44-4d8b-9b32-d25e176da0ed"
   },
   "outputs": [],
   "source": [
    "from sklearn.feature_extraction.text import TfidfVectorizer\n",
    "tfidf = TfidfVectorizer()"
   ]
  },
  {
   "cell_type": "code",
   "execution_count": 18,
   "id": "eee06f9a-b4ca-46c1-817a-4d8825ac62fa",
   "metadata": {
    "id": "eee06f9a-b4ca-46c1-817a-4d8825ac62fa",
    "outputId": "bb5496de-63be-4a24-dee8-df0512859c33"
   },
   "outputs": [
    {
     "name": "stdout",
     "output_type": "stream",
     "text": [
      "   accelerating   amazing       and      back      bali  battery   beaches  \\\n",
      "0      0.307461  0.000000  0.000000  0.000000  0.000000  0.00000  0.000000   \n",
      "1      0.000000  0.000000  0.000000  0.000000  0.000000  0.25686  0.000000   \n",
      "2      0.000000  0.261906  0.261906  0.261906  0.261906  0.00000  0.261906   \n",
      "\n",
      "     change    cities   climate  ...  smartwatch  stunning       the     this  \\\n",
      "0  0.307461  0.307461  0.307461  ...     0.00000  0.000000  0.000000  0.00000   \n",
      "1  0.000000  0.000000  0.000000  ...     0.25686  0.000000  0.195349  0.25686   \n",
      "2  0.000000  0.000000  0.000000  ...     0.00000  0.261906  0.199186  0.00000   \n",
      "\n",
      "         un      use       ust     warns     week     with  \n",
      "0  0.307461  0.00000  0.000000  0.307461  0.00000  0.00000  \n",
      "1  0.000000  0.25686  0.000000  0.000000  0.25686  0.25686  \n",
      "2  0.000000  0.00000  0.261906  0.000000  0.00000  0.00000  \n",
      "\n",
      "[3 rows x 40 columns]\n"
     ]
    }
   ],
   "source": [
    "tfidf_matrix = tfidf.fit_transform(texts)\n",
    "tfidf_features = tfidf.get_feature_names_out()\n",
    "tfidf_df = pd.DataFrame(tfidf_matrix.toarray(), columns=tfidf_features)\n",
    "print(tfidf_df)"
   ]
  },
  {
   "cell_type": "code",
   "execution_count": 19,
   "id": "da9b9d91-8391-4e19-956f-bd76399697e7",
   "metadata": {
    "id": "da9b9d91-8391-4e19-956f-bd76399697e7",
    "outputId": "e7370415-7d1d-467f-c2f3-50d62303ea37"
   },
   "outputs": [
    {
     "name": "stdout",
     "output_type": "stream",
     "text": [
      "Top keywords for Text 1: ['warns', 'un', 'coastal']\n",
      "Top keywords for Text 2: ['with', 'week', 'this']\n",
      "Top keywords for Text 3: ['ust', 'from', 'friendliest']\n"
     ]
    }
   ],
   "source": [
    "def top_words(rows, features):\n",
    "    sorted = row.argsort()[-3:][::-1]\n",
    "    return [features[i] for i in sorted]\n",
    "\n",
    "for ind, row in enumerate(tfidf_matrix.toarray()):\n",
    "    top_keys = top_words(row, tfidf_features)\n",
    "    print(f\"Top keywords for Text {ind+1}: {top_keys}\")\n"
   ]
  },
  {
   "cell_type": "markdown",
   "id": "78b162cc-201d-4390-bf8e-d6ed613d1ea4",
   "metadata": {
    "id": "78b162cc-201d-4390-bf8e-d6ed613d1ea4"
   },
   "source": [
    "## Q4. Write 2 short texts (4–6 lines each) describing two different technologies (e.g., AI vsBlockchain).\n",
    "1. Preprocess and tokenize both texts.\n",
    "2. Calculate:\n",
    "   \n",
    "    - a. Jaccard Similarity using sets\n",
    "    - b. Cosine Similarity using TfidfVectorizer + cosine_similarity\n",
    "    - c. Analyze which similarity metric gives beƩer insights in your case.case."
   ]
  },
  {
   "cell_type": "code",
   "execution_count": 20,
   "id": "03c4b531-db30-4473-8fb8-a62789525b5a",
   "metadata": {
    "id": "03c4b531-db30-4473-8fb8-a62789525b5a"
   },
   "outputs": [],
   "source": [
    "text1 = \"\"\"I've been using the NoiseBlock Pro earbuds for a month now—fantastic sound quality, great noise cancellation, and battery life lasts all day. Totally worth the price\"\"\"\n",
    "\n",
    "text2 = \"\"\"Trying to stay focused while working from home? Set a timer for 25 minutes, take 5-minute breaks, and keep your phone in another room. Works like a charm!\"\"\""
   ]
  },
  {
   "cell_type": "code",
   "execution_count": 21,
   "id": "705ac179-e803-4266-9502-ff76dd2cbdd0",
   "metadata": {
    "id": "705ac179-e803-4266-9502-ff76dd2cbdd0",
    "outputId": "20a72bde-24bd-4db4-860b-2d47a8bb1d0d"
   },
   "outputs": [
    {
     "name": "stderr",
     "output_type": "stream",
     "text": [
      "[nltk_data] Downloading package punkt to\n",
      "[nltk_data]     C:\\Users\\DELL\\AppData\\Roaming\\nltk_data...\n",
      "[nltk_data]   Package punkt is already up-to-date!\n",
      "[nltk_data] Downloading package stopwords to\n",
      "[nltk_data]     C:\\Users\\DELL\\AppData\\Roaming\\nltk_data...\n",
      "[nltk_data]   Package stopwords is already up-to-date!\n"
     ]
    },
    {
     "data": {
      "text/plain": [
       "True"
      ]
     },
     "execution_count": 21,
     "metadata": {},
     "output_type": "execute_result"
    }
   ],
   "source": [
    "import re\n",
    "from nltk.tokenize import word_tokenize\n",
    "from nltk.corpus import stopwords\n",
    "import nltk\n",
    "nltk.download('punkt')\n",
    "nltk.download('stopwords')"
   ]
  },
  {
   "cell_type": "code",
   "execution_count": 22,
   "id": "c010b3fd-703b-4327-86cb-b5a03cb1d4dd",
   "metadata": {
    "id": "c010b3fd-703b-4327-86cb-b5a03cb1d4dd"
   },
   "outputs": [],
   "source": [
    "def preprocess(text):\n",
    "    text = text.lower()\n",
    "    text = re.sub(r'[^\\w\\s]', '', text)\n",
    "    return text\n",
    "\n",
    "text1_clean = preprocess(text1)\n",
    "text2_clean = preprocess(text2)\n",
    "\n",
    "tokens1 = word_tokenize(text1_clean)\n",
    "tokens2 = word_tokenize(text2_clean)\n",
    "\n",
    "stop_words = set(stopwords.words('english'))\n",
    "tokens1_filtered = [w for w in tokens1 if w not in stop_words]\n",
    "tokens2_filtered = [w for w in tokens2 if w not in stop_words]"
   ]
  },
  {
   "cell_type": "code",
   "execution_count": 23,
   "id": "f2e6e527-df37-4348-a951-7c51b1db5b71",
   "metadata": {
    "id": "f2e6e527-df37-4348-a951-7c51b1db5b71",
    "outputId": "03dc248d-70c4-452a-ecca-a20af56a264f"
   },
   "outputs": [
    {
     "name": "stdout",
     "output_type": "stream",
     "text": [
      "Jaccard Similarity: 0.0\n"
     ]
    }
   ],
   "source": [
    "set1 = set(tokens1_filtered)\n",
    "set2 = set(tokens2_filtered)\n",
    "\n",
    "jaccard_sim = len(set1.intersection(set2)) / len(set1.union(set2))\n",
    "print(\"Jaccard Similarity:\", round(jaccard_sim, 4))"
   ]
  },
  {
   "cell_type": "code",
   "execution_count": 24,
   "id": "97f289d7-c308-4681-9bb4-0ab799c5135c",
   "metadata": {
    "id": "97f289d7-c308-4681-9bb4-0ab799c5135c"
   },
   "outputs": [],
   "source": [
    "from sklearn.feature_extraction.text import TfidfVectorizer\n",
    "from sklearn.metrics.pairwise import cosine_similarity"
   ]
  },
  {
   "cell_type": "code",
   "execution_count": 25,
   "id": "3d228bb0-f956-4bb2-8541-614e248f1428",
   "metadata": {
    "id": "3d228bb0-f956-4bb2-8541-614e248f1428",
    "outputId": "e76fa84d-3bba-4d7b-f02c-4e4ff105a9af"
   },
   "outputs": [
    {
     "name": "stdout",
     "output_type": "stream",
     "text": [
      "Cosine Similarity: 0.0\n"
     ]
    }
   ],
   "source": [
    "vectorizer = TfidfVectorizer(stop_words='english')\n",
    "tfidf_matrix = vectorizer.fit_transform([text1, text2])\n",
    "\n",
    "cos_sim = cosine_similarity(tfidf_matrix[0:1], tfidf_matrix[1:2])[0][0]\n",
    "print(\"Cosine Similarity:\", round(cos_sim, 4))"
   ]
  },
  {
   "cell_type": "markdown",
   "id": "60df6df4-4b76-413e-b419-e971ab25886d",
   "metadata": {
    "id": "60df6df4-4b76-413e-b419-e971ab25886d"
   },
   "source": [
    "### Jaccard Similarity is usually low for long texts with little word overlap, as it compares common terms in sets — so it ignores context and frequency.\n",
    "### Cosine Similarity, on the other hand, accounts for term frequency and importance (via TF-IDF), so it's better at capturing semantic similarity."
   ]
  },
  {
   "cell_type": "markdown",
   "id": "9e94e118-902b-429f-8171-7524ce0faf41",
   "metadata": {
    "id": "9e94e118-902b-429f-8171-7524ce0faf41"
   },
   "source": [
    "---"
   ]
  },
  {
   "cell_type": "markdown",
   "id": "ef2cf5a5-045f-4cac-9a85-a37282bdd4c1",
   "metadata": {
    "id": "ef2cf5a5-045f-4cac-9a85-a37282bdd4c1"
   },
   "source": [
    "## Q5. Write a short review for a product or service.\n",
    "1. Use TextBlob or VADER to find polarity & subjecƟvity for each review.\n",
    "2. Classify reviews into PosiƟve / NegaƟve / Neutral.\n",
    "3. Create a word cloud using the wordcloud library for all posiƟve reviews.\n"
   ]
  },
  {
   "cell_type": "code",
   "execution_count": 26,
   "id": "1495efcd-702e-4f06-a02d-8aa1f335ce58",
   "metadata": {
    "id": "1495efcd-702e-4f06-a02d-8aa1f335ce58"
   },
   "outputs": [],
   "source": [
    "review = \"\"\"\n",
    "I've been using the Ember Mug for a few weeks now, and it's a game-changer for coffee lovers like me. It keeps my drink at the perfect temperature for hours, which means no more reheating in the microwave. The app is easy to use and lets me customize my preferred temperature.\"\"\""
   ]
  },
  {
   "cell_type": "code",
   "execution_count": 27,
   "id": "a8b894de-4d22-4582-982b-f074f0ef7549",
   "metadata": {},
   "outputs": [
    {
     "name": "stdout",
     "output_type": "stream",
     "text": [
      "Requirement already satisfied: textblob in c:\\users\\dell\\appdata\\roaming\\python\\python312\\site-packages (0.19.0)\n",
      "Requirement already satisfied: nltk>=3.9 in c:\\users\\dell\\appdata\\roaming\\python\\python312\\site-packages (from textblob) (3.9.1)\n",
      "Requirement already satisfied: click in c:\\python312\\lib\\site-packages (from nltk>=3.9->textblob) (8.1.8)\n",
      "Requirement already satisfied: joblib in c:\\python312\\lib\\site-packages (from nltk>=3.9->textblob) (1.4.2)\n",
      "Requirement already satisfied: regex>=2021.8.3 in c:\\python312\\lib\\site-packages (from nltk>=3.9->textblob) (2024.11.6)\n",
      "Requirement already satisfied: tqdm in c:\\python312\\lib\\site-packages (from nltk>=3.9->textblob) (4.67.1)\n",
      "Requirement already satisfied: colorama in c:\\python312\\lib\\site-packages (from click->nltk>=3.9->textblob) (0.4.6)\n"
     ]
    }
   ],
   "source": [
    "!pip install --no-cache-dir textblob"
   ]
  },
  {
   "cell_type": "code",
   "execution_count": 28,
   "id": "bba495f8-3476-4f31-91b5-1cec2c5b1397",
   "metadata": {
    "id": "bba495f8-3476-4f31-91b5-1cec2c5b1397"
   },
   "outputs": [],
   "source": [
    "from textblob import TextBlob"
   ]
  },
  {
   "cell_type": "code",
   "execution_count": 29,
   "id": "f64d8220-dd5f-4e35-9025-ddda7c52b0cb",
   "metadata": {
    "colab": {
     "base_uri": "https://localhost:8080/"
    },
    "id": "f64d8220-dd5f-4e35-9025-ddda7c52b0cb",
    "outputId": "26ecd9a6-ef8b-4193-a2bf-0b9e139ba7ef"
   },
   "outputs": [
    {
     "name": "stdout",
     "output_type": "stream",
     "text": [
      "Polarity: 0.24583333333333335\n",
      "Subjectivity: 0.6083333333333334\n"
     ]
    }
   ],
   "source": [
    "blob = TextBlob(review)\n",
    "polarity = blob.sentiment.polarity\n",
    "subjectivity = blob.sentiment.subjectivity\n",
    "\n",
    "print(\"Polarity:\", polarity)\n",
    "print(\"Subjectivity:\", subjectivity)"
   ]
  },
  {
   "cell_type": "code",
   "execution_count": 30,
   "id": "d54a3be9-7ef4-4a86-bcba-4145cd11eb08",
   "metadata": {
    "colab": {
     "base_uri": "https://localhost:8080/"
    },
    "id": "d54a3be9-7ef4-4a86-bcba-4145cd11eb08",
    "outputId": "9f9c4bec-8a6a-47e1-b6a8-de55c2d2cb9d"
   },
   "outputs": [
    {
     "name": "stdout",
     "output_type": "stream",
     "text": [
      "Sentiment: Positive\n"
     ]
    }
   ],
   "source": [
    "if polarity > 0.1:\n",
    "    sentiment = \"Positive\"\n",
    "elif polarity < -0.1:\n",
    "    sentiment = \"Negative\"\n",
    "else:\n",
    "    sentiment = \"Neutral\"\n",
    "print(\"Sentiment:\", sentiment)"
   ]
  },
  {
   "cell_type": "code",
   "execution_count": 31,
   "id": "31368b9d-514d-465a-b74a-edf4eb1ea422",
   "metadata": {},
   "outputs": [
    {
     "name": "stdout",
     "output_type": "stream",
     "text": [
      "Requirement already satisfied: wordcloud in c:\\python312\\lib\\site-packages (1.9.4)\n",
      "Requirement already satisfied: numpy>=1.6.1 in c:\\python312\\lib\\site-packages (from wordcloud) (2.2.2)\n",
      "Requirement already satisfied: pillow in c:\\python312\\lib\\site-packages (from wordcloud) (11.1.0)\n",
      "Requirement already satisfied: matplotlib in c:\\python312\\lib\\site-packages (from wordcloud) (3.10.0)\n",
      "Requirement already satisfied: contourpy>=1.0.1 in c:\\python312\\lib\\site-packages (from matplotlib->wordcloud) (1.3.1)\n",
      "Requirement already satisfied: cycler>=0.10 in c:\\python312\\lib\\site-packages (from matplotlib->wordcloud) (0.12.1)\n",
      "Requirement already satisfied: fonttools>=4.22.0 in c:\\python312\\lib\\site-packages (from matplotlib->wordcloud) (4.56.0)\n",
      "Requirement already satisfied: kiwisolver>=1.3.1 in c:\\python312\\lib\\site-packages (from matplotlib->wordcloud) (1.4.8)\n",
      "Requirement already satisfied: packaging>=20.0 in c:\\python312\\lib\\site-packages (from matplotlib->wordcloud) (24.2)\n",
      "Requirement already satisfied: pyparsing>=2.3.1 in c:\\python312\\lib\\site-packages (from matplotlib->wordcloud) (3.2.1)\n",
      "Requirement already satisfied: python-dateutil>=2.7 in c:\\python312\\lib\\site-packages (from matplotlib->wordcloud) (2.9.0.post0)\n",
      "Requirement already satisfied: six>=1.5 in c:\\python312\\lib\\site-packages (from python-dateutil>=2.7->matplotlib->wordcloud) (1.17.0)\n"
     ]
    }
   ],
   "source": [
    "!pip install wordcloud"
   ]
  },
  {
   "cell_type": "code",
   "execution_count": 32,
   "id": "df221d80-8761-4c2c-adb4-6e8771cb90eb",
   "metadata": {
    "id": "df221d80-8761-4c2c-adb4-6e8771cb90eb"
   },
   "outputs": [],
   "source": [
    "from wordcloud import WordCloud\n",
    "import matplotlib.pyplot as plt"
   ]
  },
  {
   "cell_type": "code",
   "execution_count": 33,
   "id": "OsvjoqLTwgfE",
   "metadata": {
    "id": "OsvjoqLTwgfE"
   },
   "outputs": [],
   "source": [
    "positive_reviews = [\n",
    "    \"The camera quality is excellent and the features are top-notch.\",\n",
    "    \"Loved the packaging and timely delivery. Great customer service!\",\n",
    "    \"Very affordable and works as advertised. Would buy again.\",\n",
    "    review # including our review\n",
    "]"
   ]
  },
  {
   "cell_type": "code",
   "execution_count": 34,
   "id": "O355rKzcwlFu",
   "metadata": {
    "colab": {
     "base_uri": "https://localhost:8080/",
     "height": 444
    },
    "id": "O355rKzcwlFu",
    "outputId": "fb60dc64-915f-4a75-ffec-b177a7472904"
   },
   "outputs": [
    {
     "data": {
      "image/png": "[encoded data removed]",
      "text/plain": [
       "<Figure size 1000x500 with 1 Axes>"
      ]
     },
     "metadata": {},
     "output_type": "display_data"
    }
   ],
   "source": [
    "text = \" \".join(positive_reviews)\n",
    "wordcloud = WordCloud(width=800, height=400, background_color='white').generate(text)\n",
    "\n",
    "plt.figure(figsize=(10, 5))\n",
    "plt.imshow(wordcloud, interpolation='bilinear')\n",
    "plt.axis('off')\n",
    "plt.title(\"Word Cloud for Positive Reviews\")\n",
    "plt.show()"
   ]
  },
  {
   "cell_type": "markdown",
   "id": "qMhQV6dqx98e",
   "metadata": {
    "id": "qMhQV6dqx98e"
   },
   "source": [
    "---\n",
    "## Q6. Choose your own paragraph (~100 words) as training data.\n",
    "1. Tokenize text using Tokenizer() from keras.preprocessing.text\n",
    "2. Create input sequences and build a simple LSTM or Dense model\n",
    "3. Train the model and generate 2–3 new lines of text starƟng from any seed word you\n",
    "provide."
   ]
  },
  {
   "cell_type": "code",
   "execution_count": 35,
   "id": "uth8PObtxv_M",
   "metadata": {
    "id": "uth8PObtxv_M"
   },
   "outputs": [],
   "source": [
    "text = \"\"\"Anime is such a unique and vibrant medium — it brings together amazing storytelling and eye-catching visuals in a way that's hard to match. Whether you're into high-energy adventures like Demon Slayer or prefer the calm, cozy vibes of something like Yuru Camp, there's genuinely something for everyone. What makes anime really special is how it can tap into deep emotions and tell stories that go beyond language and borders. Newer shows keep raising the bar, pushing what animation can do and how stories are told. At the end of the day, anime isn't just about entertainment — it's a form of art and culture that connects with people all over the world.\"\"\""
   ]
  },
  {
   "cell_type": "code",
   "execution_count": 38,
   "id": "6807e13b-dace-49f3-b43f-bebcb11ec0d5",
   "metadata": {},
   "outputs": [
    {
     "name": "stdout",
     "output_type": "stream",
     "text": [
      "Collecting tensorflow\n",
      "  Using cached tensorflow-2.19.0-cp312-cp312-win_amd64.whl.metadata (4.1 kB)\n",
      "Collecting absl-py>=1.0.0 (from tensorflow)\n",
      "  Using cached absl_py-2.2.2-py3-none-any.whl.metadata (2.6 kB)\n",
      "Collecting astunparse>=1.6.0 (from tensorflow)\n",
      "  Using cached astunparse-1.6.3-py2.py3-none-any.whl.metadata (4.4 kB)\n",
      "Requirement already satisfied: flatbuffers>=24.3.25 in c:\\python312\\lib\\site-packages (from tensorflow) (25.2.10)\n",
      "Collecting gast!=0.5.0,!=0.5.1,!=0.5.2,>=0.2.1 (from tensorflow)\n",
      "  Using cached gast-0.6.0-py3-none-any.whl.metadata (1.3 kB)\n",
      "Collecting google-pasta>=0.1.1 (from tensorflow)\n",
      "  Using cached google_pasta-0.2.0-py3-none-any.whl.metadata (814 bytes)\n",
      "Requirement already satisfied: libclang>=13.0.0 in c:\\python312\\lib\\site-packages (from tensorflow) (18.1.1)\n",
      "Requirement already satisfied: opt-einsum>=2.3.2 in c:\\python312\\lib\\site-packages (from tensorflow) (3.4.0)\n",
      "Requirement already satisfied: packaging in c:\\python312\\lib\\site-packages (from tensorflow) (24.2)\n",
      "Requirement already satisfied: protobuf!=4.21.0,!=4.21.1,!=4.21.2,!=4.21.3,!=4.21.4,!=4.21.5,<6.0.0dev,>=3.20.3 in c:\\python312\\lib\\site-packages (from tensorflow) (5.29.4)\n",
      "Requirement already satisfied: requests<3,>=2.21.0 in c:\\python312\\lib\\site-packages (from tensorflow) (2.32.3)\n",
      "Requirement already satisfied: setuptools in c:\\python312\\lib\\site-packages (from tensorflow) (75.8.0)\n",
      "Requirement already satisfied: six>=1.12.0 in c:\\python312\\lib\\site-packages (from tensorflow) (1.17.0)\n",
      "Requirement already satisfied: termcolor>=1.1.0 in c:\\python312\\lib\\site-packages (from tensorflow) (3.1.0)\n",
      "Requirement already satisfied: typing-extensions>=3.6.6 in c:\\python312\\lib\\site-packages (from tensorflow) (4.12.2)\n",
      "Requirement already satisfied: wrapt>=1.11.0 in c:\\python312\\lib\\site-packages (from tensorflow) (1.17.2)\n",
      "Collecting grpcio<2.0,>=1.24.3 (from tensorflow)\n",
      "  Using cached grpcio-1.71.0-cp312-cp312-win_amd64.whl.metadata (4.0 kB)\n",
      "Collecting tensorboard~=2.19.0 (from tensorflow)\n",
      "  Using cached tensorboard-2.19.0-py3-none-any.whl.metadata (1.8 kB)\n",
      "Collecting keras>=3.5.0 (from tensorflow)\n",
      "  Using cached keras-3.9.2-py3-none-any.whl.metadata (6.1 kB)\n",
      "Requirement already satisfied: numpy<2.2.0,>=1.26.0 in c:\\python312\\lib\\site-packages (from tensorflow) (2.1.3)\n",
      "Collecting h5py>=3.11.0 (from tensorflow)\n",
      "  Using cached h5py-3.13.0-cp312-cp312-win_amd64.whl.metadata (2.5 kB)\n",
      "Collecting ml-dtypes<1.0.0,>=0.5.1 (from tensorflow)\n",
      "  Using cached ml_dtypes-0.5.1-cp312-cp312-win_amd64.whl.metadata (22 kB)\n",
      "Requirement already satisfied: wheel<1.0,>=0.23.0 in c:\\python312\\lib\\site-packages (from astunparse>=1.6.0->tensorflow) (0.45.1)\n",
      "Collecting rich (from keras>=3.5.0->tensorflow)\n",
      "  Using cached rich-14.0.0-py3-none-any.whl.metadata (18 kB)\n",
      "Requirement already satisfied: namex in c:\\python312\\lib\\site-packages (from keras>=3.5.0->tensorflow) (0.0.9)\n",
      "Requirement already satisfied: optree in c:\\python312\\lib\\site-packages (from keras>=3.5.0->tensorflow) (0.15.0)\n",
      "Requirement already satisfied: charset-normalizer<4,>=2 in c:\\python312\\lib\\site-packages (from requests<3,>=2.21.0->tensorflow) (3.4.1)\n",
      "Requirement already satisfied: idna<4,>=2.5 in c:\\python312\\lib\\site-packages (from requests<3,>=2.21.0->tensorflow) (3.10)\n",
      "Requirement already satisfied: urllib3<3,>=1.21.1 in c:\\python312\\lib\\site-packages (from requests<3,>=2.21.0->tensorflow) (2.3.0)\n",
      "Requirement already satisfied: certifi>=2017.4.17 in c:\\python312\\lib\\site-packages (from requests<3,>=2.21.0->tensorflow) (2024.12.14)\n",
      "Collecting markdown>=2.6.8 (from tensorboard~=2.19.0->tensorflow)\n",
      "  Using cached markdown-3.8-py3-none-any.whl.metadata (5.1 kB)\n",
      "Requirement already satisfied: tensorboard-data-server<0.8.0,>=0.7.0 in c:\\python312\\lib\\site-packages (from tensorboard~=2.19.0->tensorflow) (0.7.2)\n",
      "Requirement already satisfied: werkzeug>=1.0.1 in c:\\python312\\lib\\site-packages (from tensorboard~=2.19.0->tensorflow) (3.1.3)\n",
      "Requirement already satisfied: MarkupSafe>=2.1.1 in c:\\python312\\lib\\site-packages (from werkzeug>=1.0.1->tensorboard~=2.19.0->tensorflow) (3.0.2)\n",
      "Collecting markdown-it-py>=2.2.0 (from rich->keras>=3.5.0->tensorflow)\n",
      "  Using cached markdown_it_py-3.0.0-py3-none-any.whl.metadata (6.9 kB)\n",
      "Requirement already satisfied: pygments<3.0.0,>=2.13.0 in c:\\python312\\lib\\site-packages (from rich->keras>=3.5.0->tensorflow) (2.19.1)\n",
      "Requirement already satisfied: mdurl~=0.1 in c:\\python312\\lib\\site-packages (from markdown-it-py>=2.2.0->rich->keras>=3.5.0->tensorflow) (0.1.2)\n",
      "Using cached tensorflow-2.19.0-cp312-cp312-win_amd64.whl (376.0 MB)\n",
      "Using cached absl_py-2.2.2-py3-none-any.whl (135 kB)\n",
      "Using cached astunparse-1.6.3-py2.py3-none-any.whl (12 kB)\n",
      "Using cached gast-0.6.0-py3-none-any.whl (21 kB)\n",
      "Using cached google_pasta-0.2.0-py3-none-any.whl (57 kB)\n",
      "Using cached grpcio-1.71.0-cp312-cp312-win_amd64.whl (4.3 MB)\n",
      "Using cached h5py-3.13.0-cp312-cp312-win_amd64.whl (3.0 MB)\n",
      "Using cached keras-3.9.2-py3-none-any.whl (1.3 MB)\n",
      "Using cached ml_dtypes-0.5.1-cp312-cp312-win_amd64.whl (210 kB)\n",
      "Using cached tensorboard-2.19.0-py3-none-any.whl (5.5 MB)\n",
      "Using cached markdown-3.8-py3-none-any.whl (106 kB)\n",
      "Using cached rich-14.0.0-py3-none-any.whl (243 kB)\n",
      "Using cached markdown_it_py-3.0.0-py3-none-any.whl (87 kB)\n",
      "Installing collected packages: ml-dtypes, markdown-it-py, markdown, h5py, grpcio, google-pasta, gast, astunparse, absl-py, tensorboard, rich, keras, tensorflow\n",
      "Successfully installed absl-py-2.2.2 astunparse-1.6.3 gast-0.6.0 google-pasta-0.2.0 grpcio-1.71.0 h5py-3.13.0 keras-3.9.2 markdown-3.8 markdown-it-py-3.0.0 ml-dtypes-0.5.1 rich-14.0.0 tensorboard-2.19.0 tensorflow-2.19.0\n"
     ]
    },
    {
     "name": "stderr",
     "output_type": "stream",
     "text": [
      "  WARNING: The script markdown-it.exe is installed in 'C:\\Users\\DELL\\AppData\\Roaming\\Python\\Python312\\Scripts' which is not on PATH.\n",
      "  Consider adding this directory to PATH or, if you prefer to suppress this warning, use --no-warn-script-location.\n",
      "  WARNING: The script markdown_py.exe is installed in 'C:\\Users\\DELL\\AppData\\Roaming\\Python\\Python312\\Scripts' which is not on PATH.\n",
      "  Consider adding this directory to PATH or, if you prefer to suppress this warning, use --no-warn-script-location.\n",
      "  WARNING: The script tensorboard.exe is installed in 'C:\\Users\\DELL\\AppData\\Roaming\\Python\\Python312\\Scripts' which is not on PATH.\n",
      "  Consider adding this directory to PATH or, if you prefer to suppress this warning, use --no-warn-script-location.\n",
      "  WARNING: The scripts import_pb_to_tensorboard.exe, saved_model_cli.exe, tensorboard.exe, tf_upgrade_v2.exe, tflite_convert.exe and toco.exe are installed in 'C:\\Users\\DELL\\AppData\\Roaming\\Python\\Python312\\Scripts' which is not on PATH.\n",
      "  Consider adding this directory to PATH or, if you prefer to suppress this warning, use --no-warn-script-location.\n"
     ]
    }
   ],
   "source": [
    "!pip install --user tensorflow"
   ]
  },
  {
   "cell_type": "code",
   "execution_count": 39,
   "id": "3NZ7YdFY1QQf",
   "metadata": {
    "id": "3NZ7YdFY1QQf"
   },
   "outputs": [],
   "source": [
    "from tensorflow.keras.preprocessing.text import Tokenizer\n",
    "from tensorflow.keras.preprocessing.sequence import pad_sequences\n",
    "from tensorflow.keras.models import Sequential\n",
    "from tensorflow.keras.layers import Embedding, LSTM, Dense\n",
    "\n",
    "import numpy as np"
   ]
  },
  {
   "cell_type": "code",
   "execution_count": 40,
   "id": "L2mYdlc11OuF",
   "metadata": {
    "colab": {
     "base_uri": "https://localhost:8080/"
    },
    "id": "L2mYdlc11OuF",
    "outputId": "c3ebb306-33cc-4ef4-fb83-4c4522c1481b"
   },
   "outputs": [
    {
     "name": "stderr",
     "output_type": "stream",
     "text": [
      "C:\\Users\\DELL\\AppData\\Roaming\\Python\\Python312\\site-packages\\keras\\src\\layers\\core\\embedding.py:90: UserWarning: Argument `input_length` is deprecated. Just remove it.\n",
      "  warnings.warn(\n"
     ]
    },
    {
     "name": "stdout",
     "output_type": "stream",
     "text": [
      "Generated text:\n",
      "anime is and is and unique and and medium it brings brings amazing storytelling storytelling eye\n"
     ]
    }
   ],
   "source": [
    "# 1. Tokenize text\n",
    "tokenizer = Tokenizer()\n",
    "tokenizer.fit_on_texts([text])\n",
    "total_words = len(tokenizer.word_index) + 1\n",
    "\n",
    "# Create input sequences\n",
    "input_sequences = []\n",
    "for line in text.split('\\n'):\n",
    "    token_list = tokenizer.texts_to_sequences([line])[0]\n",
    "    for i in range(2, len(token_list)+1):\n",
    "        n_gram_sequence = token_list[:i]\n",
    "        input_sequences.append(n_gram_sequence)\n",
    "\n",
    "# Pad sequences\n",
    "max_seq_len = max([len(seq) for seq in input_sequences])\n",
    "input_sequences = pad_sequences(input_sequences, maxlen=max_seq_len, padding='pre')\n",
    "\n",
    "# Split predictors and label\n",
    "xs, labels = input_sequences[:,:-1], input_sequences[:,-1]\n",
    "ys = np.zeros((len(labels), total_words))\n",
    "for i, label in enumerate(labels):\n",
    "    ys[i, label] = 1\n",
    "\n",
    "# 2. Build a simple LSTM model\n",
    "model = Sequential()\n",
    "model.add(Embedding(total_words, 10, input_length=max_seq_len-1))\n",
    "model.add(LSTM(50))\n",
    "model.add(Dense(total_words, activation='softmax'))\n",
    "model.compile(loss='categorical_crossentropy', optimizer='adam', metrics=['accuracy'])\n",
    "\n",
    "# 3. Train the model\n",
    "model.fit(xs, ys, epochs=200, verbose=0)\n",
    "\n",
    "# Generate new text\n",
    "seed_text = \"anime\"\n",
    "next_words = 15\n",
    "for _ in range(next_words):\n",
    "    token_list = tokenizer.texts_to_sequences([seed_text])[0]\n",
    "    token_list = pad_sequences([token_list], maxlen=max_seq_len-1, padding='pre')\n",
    "    predicted = np.argmax(model.predict(token_list, verbose=0), axis=-1)[0]\n",
    "    for word, index in tokenizer.word_index.items():\n",
    "        if index == predicted:\n",
    "            seed_text += \" \" + word\n",
    "            break\n",
    "\n",
    "print(\"Generated text:\")\n",
    "print(seed_text)"
   ]
  },
  {
   "cell_type": "code",
   "execution_count": null,
   "id": "EPN1QAPK1TVr",
   "metadata": {
    "id": "EPN1QAPK1TVr"
   },
   "outputs": [],
   "source": []
  }
 ],
 "metadata": {
  "colab": {
   "provenance": []
  },
  "kernelspec": {
   "display_name": "Python 3 (ipykernel)",
   "language": "python",
   "name": "python3"
  },
  "language_info": {
   "codemirror_mode": {
    "name": "ipython",
    "version": 3
   },
   "file_extension": ".py",
   "mimetype": "text/x-python",
   "name": "python",
   "nbconvert_exporter": "python",
   "pygments_lexer": "ipython3",
   "version": "3.12.4"
  }
 },
 "nbformat": 4,
 "nbformat_minor": 5
}
