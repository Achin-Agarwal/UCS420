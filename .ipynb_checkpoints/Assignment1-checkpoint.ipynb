{
 "cells": [
  {
   "cell_type": "markdown",
   "id": "397e13f6-4243-49c1-933e-c02435b2d21d",
   "metadata": {},
   "source": [
    "### 1.1: WAP to print your name three times."
   ]
  },
  {
   "cell_type": "code",
   "execution_count": 10,
   "id": "986b56fd-bcfc-4a82-b96e-05cb63edaa17",
   "metadata": {},
   "outputs": [
    {
     "name": "stdout",
     "output_type": "stream",
     "text": [
      "ACHIN\n",
      "ACHIN\n",
      "ACHIN\n"
     ]
    }
   ],
   "source": [
    "print(\"ACHIN\")\n",
    "print(\"ACHIN\")\n",
    "print(\"ACHIN\")\n"
   ]
  },
  {
   "cell_type": "markdown",
   "id": "9a2fa161-27f5-4791-a912-db45d7ab7233",
   "metadata": {},
   "source": [
    "### 2.1: WAP to add three numbers and print the result."
   ]
  },
  {
   "cell_type": "code",
   "execution_count": 12,
   "id": "70d86874-9cee-468a-8127-33eb044b4ae8",
   "metadata": {},
   "outputs": [
    {
     "name": "stdout",
     "output_type": "stream",
     "text": [
      "120\n"
     ]
    }
   ],
   "source": [
    "a=10\n",
    "b=20\n",
    "c=90\n",
    "print(a+b+c)"
   ]
  },
  {
   "cell_type": "markdown",
   "id": "985223c8-2928-46c1-bfd7-118d234ce367",
   "metadata": {},
   "source": [
    "### 2.2: WAP to concatinate three strings and print the result."
   ]
  },
  {
   "cell_type": "code",
   "execution_count": 13,
   "id": "dd80fd74-d4c8-457d-bb08-e022bfcf76da",
   "metadata": {},
   "outputs": [
    {
     "name": "stdout",
     "output_type": "stream",
     "text": [
      "ACHIN\n"
     ]
    }
   ],
   "source": [
    "a=\"A\"\n",
    "b=\"CH\"\n",
    "c=\"IN\"\n",
    "print(a+b+c)"
   ]
  },
  {
   "cell_type": "markdown",
   "id": "cfa4a647-c792-40ec-a48a-972f9c528ca6",
   "metadata": {},
   "source": [
    "### 4.1: WAP to print the table of 7, 9."
   ]
  },
  {
   "cell_type": "code",
   "execution_count": 14,
   "id": "88a6003f-4992-47b6-a94d-af1bc034e425",
   "metadata": {},
   "outputs": [
    {
     "name": "stdin",
     "output_type": "stream",
     "text": [
      "Enter the number: 3\n"
     ]
    },
    {
     "name": "stdout",
     "output_type": "stream",
     "text": [
      "3\n",
      "6\n",
      "9\n",
      "12\n",
      "15\n",
      "18\n",
      "21\n",
      "24\n",
      "27\n",
      "30\n"
     ]
    }
   ],
   "source": [
    "a=int(input(\"Enter the number:\"))\n",
    "for i in range(1,11,1):\n",
    "  print(i*a)"
   ]
  },
  {
   "cell_type": "markdown",
   "id": "b241ff01-f456-49f0-b7f9-dd08fe2681b8",
   "metadata": {},
   "source": [
    "### 4.2: WAP to print the table of n and n is given by user."
   ]
  },
  {
   "cell_type": "code",
   "execution_count": 15,
   "id": "72ca2ceb-f751-4d45-a1a0-3513f6531a11",
   "metadata": {},
   "outputs": [
    {
     "name": "stdin",
     "output_type": "stream",
     "text": [
      "Enter the number: 3\n"
     ]
    },
    {
     "name": "stdout",
     "output_type": "stream",
     "text": [
      "3\n",
      "6\n",
      "9\n",
      "12\n",
      "15\n",
      "18\n",
      "21\n",
      "24\n",
      "27\n",
      "30\n"
     ]
    }
   ],
   "source": [
    "n=int(input(\"Enter the number:\"))  \n",
    "for i in range(1,11,1):\n",
    "  print(i*n)"
   ]
  },
  {
   "cell_type": "markdown",
   "id": "1d769ecc-25ae-4819-b510-1187f0a4e96e",
   "metadata": {},
   "source": [
    "### 4.3: WAP to add all the numbers from 1 to n and n is given by user."
   ]
  },
  {
   "cell_type": "code",
   "execution_count": 16,
   "id": "0b50cd5d-c62c-45f3-8910-3ca7dfd42dd1",
   "metadata": {},
   "outputs": [
    {
     "name": "stdin",
     "output_type": "stream",
     "text": [
      "Enter the number: 5\n"
     ]
    },
    {
     "name": "stdout",
     "output_type": "stream",
     "text": [
      "15\n"
     ]
    }
   ],
   "source": [
    "n=int(input(\"Enter the number:\"))\n",
    "sum=0\n",
    "while n>0:\n",
    "  sum=sum+n\n",
    "  n=n-1\n",
    "print(sum)"
   ]
  },
  {
   "cell_type": "markdown",
   "id": "53fa0ec9-0929-4899-bfa0-07a6a7666282",
   "metadata": {},
   "source": [
    "### 5.1: WAP to find max amoung three numbers and input from user. [Try max() function]"
   ]
  },
  {
   "cell_type": "code",
   "execution_count": 17,
   "id": "adc50726-b916-41e0-8381-ed0b734f2209",
   "metadata": {},
   "outputs": [
    {
     "name": "stdin",
     "output_type": "stream",
     "text": [
      "Enter the first number: 5\n",
      "Enter the second number: 1\n",
      "Enter the third number: 6\n"
     ]
    },
    {
     "name": "stdout",
     "output_type": "stream",
     "text": [
      "6\n"
     ]
    }
   ],
   "source": [
    "a=int(input(\"Enter the first number:\"))\n",
    "b=int(input(\"Enter the second number:\"))\n",
    "c=int(input(\"Enter the third number:\"))\n",
    "print(max(a,b,c))"
   ]
  },
  {
   "cell_type": "markdown",
   "id": "3406ce6b-7772-4240-973a-0a394873ef24",
   "metadata": {},
   "source": [
    "### 5.2: WAP to add all numbers divisible by 7 and 9 from 1 to n and n is given by the user."
   ]
  },
  {
   "cell_type": "code",
   "execution_count": 18,
   "id": "78dd6bd8-6bcb-488c-931e-04b6b4386f11",
   "metadata": {},
   "outputs": [
    {
     "name": "stdin",
     "output_type": "stream",
     "text": [
      "Enter the number: 5\n"
     ]
    },
    {
     "name": "stdout",
     "output_type": "stream",
     "text": [
      "0\n"
     ]
    }
   ],
   "source": [
    "n=int(input(\"Enter the number:\"))\n",
    "sum=0\n",
    "for i in range(1,n+1):\n",
    "  if(i%7==0 and i%9==0):\n",
    "    sum=sum+i\n",
    "print(sum)"
   ]
  },
  {
   "cell_type": "markdown",
   "id": "a2e9ded0-93c4-43fa-9575-6c5eaff4d4cf",
   "metadata": {},
   "source": [
    "### 5.3: WAP to add all prime numbers from 1 to n and n is given by the user."
   ]
  },
  {
   "cell_type": "code",
   "execution_count": 19,
   "id": "f94aedae-3aa8-43a9-ba07-ebfae0fbc530",
   "metadata": {},
   "outputs": [
    {
     "name": "stdin",
     "output_type": "stream",
     "text": [
      "Enter the number: 9\n"
     ]
    },
    {
     "name": "stdout",
     "output_type": "stream",
     "text": [
      "17\n"
     ]
    }
   ],
   "source": [
    "n=int(input(\"Enter the number:\"))\n",
    "sum=0\n",
    "for i in range(2,n+1):\n",
    "  flag=0\n",
    "  for j in range(2,int((i/2)+1)):\n",
    "    if(i%j==0):\n",
    "      flag=1\n",
    "      break\n",
    "  if(flag==0):\n",
    "      sum=sum+i\n",
    "print(sum)"
   ]
  },
  {
   "cell_type": "code",
   "execution_count": 20,
   "id": "005320f2-987b-46ae-9710-2e3e2aa619a7",
   "metadata": {},
   "outputs": [
    {
     "name": "stdin",
     "output_type": "stream",
     "text": [
      "Enter the value of n:  4\n"
     ]
    },
    {
     "name": "stdout",
     "output_type": "stream",
     "text": [
      "The sum of all prime numbers from 1 to 4 is: 5\n"
     ]
    }
   ],
   "source": [
    "def is_prime(num):\n",
    "    if num < 2:\n",
    "        return False\n",
    "    for i in range(2, int(num**0.5) + 1):\n",
    "        if num % i == 0:\n",
    "            return False\n",
    "    return True\n",
    "def sum_prime_numbers(n):\n",
    "    total_sum = 0\n",
    "    for i in range(2, n + 1):\n",
    "        if is_prime(i):\n",
    "            total_sum += i\n",
    "    return total_sum\n",
    "n = int(input(\"Enter the value of n: \"))\n",
    "result = sum_prime_numbers(n)\n",
    "print(\"The sum of all prime numbers from 1 to\", n, \"is:\", result)"
   ]
  },
  {
   "cell_type": "markdown",
   "id": "30bb10a5-dfe9-4f72-b89b-4caa8ddcacea",
   "metadata": {},
   "source": [
    "### 6.2: Function to add all odd numbers from 1 to n."
   ]
  },
  {
   "cell_type": "code",
   "execution_count": 22,
   "id": "0348ba9f-38e7-40ed-a47c-51583c9d4beb",
   "metadata": {},
   "outputs": [
    {
     "name": "stdin",
     "output_type": "stream",
     "text": [
      "Enter the value of n:  6\n"
     ]
    },
    {
     "name": "stdout",
     "output_type": "stream",
     "text": [
      "The sum of all odd numbers from 1 to 6 is: 9\n"
     ]
    }
   ],
   "source": [
    "def sum_odd_numbers(n):\n",
    "    total_sum = 0\n",
    "    for i in range(1, n + 1, 2):\n",
    "        total_sum += i\n",
    "    return total_sum\n",
    "n = int(input(\"Enter the value of n: \"))\n",
    "result = sum_odd_numbers(n)\n",
    "print(\"The sum of all odd numbers from 1 to\", n, \"is:\", result)"
   ]
  }
 ],
 "metadata": {
  "kernelspec": {
   "display_name": "Python 3 (ipykernel)",
   "language": "python",
   "name": "python3"
  },
  "language_info": {
   "codemirror_mode": {
    "name": "ipython",
    "version": 3
   },
   "file_extension": ".py",
   "mimetype": "text/x-python",
   "name": "python",
   "nbconvert_exporter": "python",
   "pygments_lexer": "ipython3",
   "version": "3.12.4"
  }
 },
 "nbformat": 4,
 "nbformat_minor": 5
}
