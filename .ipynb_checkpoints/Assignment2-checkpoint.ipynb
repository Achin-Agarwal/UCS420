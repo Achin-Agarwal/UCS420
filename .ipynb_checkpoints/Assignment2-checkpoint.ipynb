{
 "cells": [
  {
   "cell_type": "markdown",
   "id": "0bddb0ce-3bae-46a8-ada0-bda0c4f7cc08",
   "metadata": {},
   "source": [
    "### 1. Create a List L that is defined as= [10, 20, 30, 40, 50, 60, 70, 80]. \n",
    "###      i. WAP to add 200 and 300 to L. \n",
    "###     ii. WAP to remove 10 and 30 from L. \n",
    "###    iii. WAP to sort L in ascending order. \n",
    "###     iv. WAP to sort L in descending order. "
   ]
  },
  {
   "cell_type": "code",
   "execution_count": 2,
   "id": "726842d9-8035-4d7a-96e9-a3cf5db06d54",
   "metadata": {},
   "outputs": [
    {
     "name": "stdout",
     "output_type": "stream",
     "text": [
      "[300, 200, 80, 70, 60, 50, 40, 20]\n"
     ]
    }
   ],
   "source": [
    "L = [10,20,30,40,50,60,70,80]\n",
    "L.append(200)\n",
    "L.append(300)\n",
    "L.remove(10)\n",
    "L.remove(30)\n",
    "L.sort()\n",
    "L.sort(reverse = True)\n",
    "print(L)"
   ]
  },
  {
   "cell_type": "markdown",
   "id": "b1835b39-c54d-401f-b172-1c14ee331306",
   "metadata": {},
   "source": [
    "### 2. Create a tuple of marks scored as scores = (45, 89.5, 76, 45.4, 89, 92, 58, 45) and perform the following operations using tuple functions: \n",
    "###    i. Identify the highest score and its index in the tuple. \n",
    "###   ii. Find the lowest score and count how many times it appears. \n",
    "###  iii. Reverse the tuple and return it as a list. \n",
    "###   iv. Check if a specific score ‘76’ (input by the user) is present in the tuple and print its first occurrence index, or a message saying it’s not present."
   ]
  },
  {
   "cell_type": "code",
   "execution_count": 15,
   "id": "94bc40cf-9b7b-4675-ade1-0e5f4fa22204",
   "metadata": {},
   "outputs": [
    {
     "name": "stdout",
     "output_type": "stream",
     "text": [
      "Highest score: 92\n",
      "Index of highest score: 5\n",
      "Lowest score: 45\n",
      "Count of lowest score: 2\n",
      "Reversed tuple as a list: [45, 58, 92, 89, 45.4, 76, 89.5, 45]\n",
      "The score 76 is found at index 2.\n"
     ]
    }
   ],
   "source": [
    "T = (45, 89.5, 76, 45.4, 89, 92, 58, 45)\n",
    "print(f\"Highest score: {max(T)}\")\n",
    "print(f\"Index of highest score: {T.index(max(T))}\")\n",
    "print(f\"Lowest score: {min(T)}\")\n",
    "print(f\"Count of lowest score: {T.count(min(T))}\")\n",
    "print(f\"Reversed tuple as a list: {list(reversed(T))}\")\n",
    "score = 76\n",
    "if score in T:\n",
    "    print(f\"The score {score} is found at index {T.index(score)}.\")\n",
    "else:\n",
    "    print(f\"The score {score} is not present.\")"
   ]
  },
  {
   "cell_type": "code",
   "execution_count": null,
   "id": "b6622a0a-f1a7-45b6-b66a-8af4be001839",
   "metadata": {},
   "outputs": [],
   "source": []
  }
 ],
 "metadata": {
  "kernelspec": {
   "display_name": "Python 3 (ipykernel)",
   "language": "python",
   "name": "python3"
  },
  "language_info": {
   "codemirror_mode": {
    "name": "ipython",
    "version": 3
   },
   "file_extension": ".py",
   "mimetype": "text/x-python",
   "name": "python",
   "nbconvert_exporter": "python",
   "pygments_lexer": "ipython3",
   "version": "3.12.4"
  }
 },
 "nbformat": 4,
 "nbformat_minor": 5
}
