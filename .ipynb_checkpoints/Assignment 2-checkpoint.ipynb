{
 "cells": [
  {
   "cell_type": "markdown",
   "id": "0bddb0ce-3bae-46a8-ada0-bda0c4f7cc08",
   "metadata": {},
   "source": [
    "### 1. Create a List L that is defined as= [10, 20, 30, 40, 50, 60, 70, 80]. \n",
    "###      i. WAP to add 200 and 300 to L. \n",
    "###     ii. WAP to remove 10 and 30 from L. \n",
    "###    iii. WAP to sort L in ascending order. \n",
    "###     iv. WAP to sort L in descending order. "
   ]
  },
  {
   "cell_type": "code",
   "execution_count": 2,
   "id": "726842d9-8035-4d7a-96e9-a3cf5db06d54",
   "metadata": {},
   "outputs": [
    {
     "name": "stdout",
     "output_type": "stream",
     "text": [
      "[300, 200, 80, 70, 60, 50, 40, 20]\n"
     ]
    }
   ],
   "source": [
    "L = [10,20,30,40,50,60,70,80]\n",
    "L.append(200)\n",
    "L.append(300)\n",
    "L.remove(10)\n",
    "L.remove(30)\n",
    "L.sort()\n",
    "L.sort(reverse = True)\n",
    "print(L)"
   ]
  },
  {
   "cell_type": "markdown",
   "id": "b1835b39-c54d-401f-b172-1c14ee331306",
   "metadata": {},
   "source": [
    "### 2. Create a tuple of marks scored as scores = (45, 89.5, 76, 45.4, 89, 92, 58, 45) and perform the following operations using tuple functions: \n",
    "###    i. Identify the highest score and its index in the tuple. \n",
    "###   ii. Find the lowest score and count how many times it appears. \n",
    "###  iii. Reverse the tuple and return it as a list. \n",
    "###   iv. Check if a specific score ‘76’ (input by the user) is present in the tuple and print its first occurrence index, or a message saying it’s not present."
   ]
  },
  {
   "cell_type": "code",
   "execution_count": 15,
   "id": "94bc40cf-9b7b-4675-ade1-0e5f4fa22204",
   "metadata": {},
   "outputs": [
    {
     "name": "stdout",
     "output_type": "stream",
     "text": [
      "Highest score: 92\n",
      "Index of highest score: 5\n",
      "Lowest score: 45\n",
      "Count of lowest score: 2\n",
      "Reversed tuple as a list: [45, 58, 92, 89, 45.4, 76, 89.5, 45]\n",
      "The score 76 is found at index 2.\n"
     ]
    }
   ],
   "source": [
    "T = (45, 89.5, 76, 45.4, 89, 92, 58, 45)\n",
    "print(f\"Highest score: {max(T)}\")\n",
    "print(f\"Index of highest score: {T.index(max(T))}\")\n",
    "print(f\"Lowest score: {min(T)}\")\n",
    "print(f\"Count of lowest score: {T.count(min(T))}\")\n",
    "print(f\"Reversed tuple as a list: {list(reversed(T))}\")\n",
    "score = 76\n",
    "if score in T:\n",
    "    print(f\"The score {score} is found at index {T.index(score)}.\")\n",
    "else:\n",
    "    print(f\"The score {score} is not present.\")"
   ]
  },
  {
   "cell_type": "markdown",
   "id": "2eda0360-ab55-475d-bbcc-e646ac92c871",
   "metadata": {},
   "source": [
    "### 3. WAP to create a list of 100 random numbers between 100 and 900. Count and print the: \n",
    "###    i. All odd numbers \n",
    "###   ii. All even numbers \n",
    "###  iii. All prime numbers \n"
   ]
  },
  {
   "cell_type": "code",
   "execution_count": 2,
   "id": "761a0836-4042-4361-ae23-05fa3475d09b",
   "metadata": {},
   "outputs": [
    {
     "name": "stdout",
     "output_type": "stream",
     "text": [
      "[537, 565, 671, 621, 215, 553, 201, 267, 419, 897, 379, 895, 381, 443, 283, 739, 743, 881, 559, 403, 577, 797, 749, 265, 389, 203, 121, 883, 233, 791, 153, 121, 875, 277, 543, 821, 801, 727, 723, 707, 119, 707, 475, 783, 825, 621, 897, 765, 253, 883]\n",
      "50\n",
      "[372, 304, 670, 632, 534, 490, 304, 168, 144, 678, 772, 534, 310, 584, 256, 704, 474, 248, 158, 886, 804, 610, 124, 900, 448, 672, 868, 566, 738, 844, 516, 228, 436, 820, 462, 650, 532, 810, 414, 262, 534, 124, 150, 118, 508, 188, 460, 890, 358, 146]\n",
      "50\n",
      "[537, 565, 671, 621, 215, 553, 201, 267, 419, 897, 379, 895, 381, 443, 283, 739, 743, 881, 559, 403, 577, 797, 749, 265, 389, 203, 121, 883, 233, 791, 153, 121, 875, 277, 543, 821, 801, 727, 723, 707, 119, 707, 475, 783, 825, 621, 897, 765, 253, 883]\n",
      "50\n"
     ]
    }
   ],
   "source": [
    "import random\n",
    "random_number = [random.randint(100,900) for i in range(100)]\n",
    "def is_prime(n):\n",
    "    if n<2:\n",
    "        return False\n",
    "    for i in range(2, int(n**0.5)+1):\n",
    "        if n%i==0:\n",
    "            return False\n",
    "        return True\n",
    "odd_num = [num for num in random_number if num%2!=0]\n",
    "print(odd_num)\n",
    "print(len(odd_num))\n",
    "even_num = [num for num in random_number if num%2==0]\n",
    "print(even_num)\n",
    "print(len(even_num))\n",
    "prime_num = [num for num in random_number if is_prime(num)]\n",
    "print(prime_num)\n",
    "print(len(prime_num))"
   ]
  },
  {
   "cell_type": "markdown",
   "id": "78fe61bd-80d1-40cf-b28a-9ef074742b2f",
   "metadata": {},
   "source": [
    "### 4. Consider the following two sets, A and B, representing scores of two teams in multiple matches. A = {34, 56, 78, 90} and B = {78, 45, 90, 23}. WAP to perform the following operations using set functions:\n",
    "###    i. Find the unique scores achieved by both teams (union of sets). \n",
    "###   ii. Identify the scores that are common to both teams (intersection of sets).\n",
    "###  iii. Find the scores that are exclusive to each team (symmetric difference). \n",
    "###   iv. Check if the scores of team A are a subset of team B, and if team B's scores are a superset of team A. \n",
    "###    v. Remove a specific score 𝑋 (input by the user) from set A if it exists. If not, print a message saying it is not present. "
   ]
  },
  {
   "cell_type": "code",
   "execution_count": 6,
   "id": "f885fa24-1630-4a8b-a059-48ed11377e5d",
   "metadata": {},
   "outputs": [
    {
     "name": "stdout",
     "output_type": "stream",
     "text": [
      "{34, 45, 78, 23, 56, 90}\n",
      "{90, 78}\n",
      "{34, 45, 23, 56}\n",
      "False\n",
      "False\n"
     ]
    },
    {
     "name": "stdin",
     "output_type": "stream",
     "text": [
      "Enter the any number: 34\n"
     ]
    },
    {
     "name": "stdout",
     "output_type": "stream",
     "text": [
      "Present in set A\n"
     ]
    }
   ],
   "source": [
    "A={34,56,78,90}\n",
    "B={78,45,90,23}\n",
    "print(A.union(B))\n",
    "print(A.intersection(B))\n",
    "print(A.symmetric_difference(B))\n",
    "print(A.issubset(B))\n",
    "print(B.issuperset(A))\n",
    "X = int(input(\"Enter the any number:\"))\n",
    "if X in A:\n",
    "    print(\"Present in set A\")\n",
    "else:\n",
    "    print(\"Not present in set A\")"
   ]
  },
  {
   "cell_type": "markdown",
   "id": "66b8bafd-f9ee-484e-850f-1c87626adbb5",
   "metadata": {},
   "source": [
    "### 5. Write a program to rename a key city to a location in the following dictionary."
   ]
  },
  {
   "cell_type": "code",
   "execution_count": 7,
   "id": "4852fc0b-d0c2-43dd-82cc-79e93b37974d",
   "metadata": {},
   "outputs": [
    {
     "name": "stdout",
     "output_type": "stream",
     "text": [
      "{'name': 'Kelly', 'age': 25, 'salary': 8000, 'location': 'New york'}\n"
     ]
    }
   ],
   "source": [
    "sample_dict = {\"name\": \"Kelly\", \"age\":25, \"salary\":8000, \"city\":\"New york\"}\n",
    "old=\"city\"\n",
    "new=\"location\"\n",
    "sample_dict[new]=sample_dict.pop(old)\n",
    "print(sample_dict)"
   ]
  }
 ],
 "metadata": {
  "kernelspec": {
   "display_name": "Python 3 (ipykernel)",
   "language": "python",
   "name": "python3"
  },
  "language_info": {
   "codemirror_mode": {
    "name": "ipython",
    "version": 3
   },
   "file_extension": ".py",
   "mimetype": "text/x-python",
   "name": "python",
   "nbconvert_exporter": "python",
   "pygments_lexer": "ipython3",
   "version": "3.12.4"
  }
 },
 "nbformat": 4,
 "nbformat_minor": 5
}
