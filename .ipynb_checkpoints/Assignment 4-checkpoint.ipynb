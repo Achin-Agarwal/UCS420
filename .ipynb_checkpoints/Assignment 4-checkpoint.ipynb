{
 "cells": [
  {
   "cell_type": "markdown",
   "id": "0b727227-02b2-4240-b0b5-bd27410af589",
   "metadata": {},
   "source": [
    "### Q.1 Write a program to create a NumPy 1D-array with 5 elements and perform basic operations like:\n",
    "### a) Addition of 2 in all the element\n",
    "### b) Multiply 3 with all the elements\n",
    "### c) Divide every element by 2"
   ]
  },
  {
   "cell_type": "code",
   "execution_count": 6,
   "id": "c675bc45-478f-4472-b25e-cea71de7fa96",
   "metadata": {},
   "outputs": [],
   "source": [
    "import numpy as np"
   ]
  },
  {
   "cell_type": "code",
   "execution_count": 5,
   "id": "3b179b33-6a2c-4564-a88d-52f4a89b40ed",
   "metadata": {},
   "outputs": [
    {
     "name": "stdout",
     "output_type": "stream",
     "text": [
      "Array after addition: [3 4 5 6 7]\n",
      "Array after multiplication: [ 3  6  9 12 15]\n",
      "Array after division: [0.5 1.  1.5 2.  2.5]\n"
     ]
    }
   ],
   "source": [
    "arr=np.array([1,2,3,4,5])\n",
    "print(\"Array after addition:\", arr+2)\n",
    "print(\"Array after multiplication:\", arr*3)\n",
    "print(\"Array after division:\", arr/2)"
   ]
  },
  {
   "cell_type": "markdown",
   "id": "ae1dc429-fe1c-4925-ad6f-9593b835bc61",
   "metadata": {},
   "source": [
    "### Q.2 Questions on Basic NumPy Array:\n",
    "### a) Reverse the NumPy array: arr = np.array([1, 2, 3, 6, 4, 5])\n",
    "### b) Find the most frequent value and their indice(s) in the following arrays:\n",
    "### i. x = np.array([1,2,3,4,5,1,2,1,1,1])\n",
    "### ii. y = np.array([1, 1, 1, 2, 3, 4, 2, 4, 3, 3])"
   ]
  },
  {
   "cell_type": "code",
   "execution_count": 20,
   "id": "68329514-973c-49d5-96c5-b29ed8eda896",
   "metadata": {},
   "outputs": [
    {
     "name": "stdout",
     "output_type": "stream",
     "text": [
      "Reversed array [5 4 6 3 2 1]\n"
     ]
    }
   ],
   "source": [
    "arr = np.array([1, 2, 3, 6, 4, 5])\n",
    "arr = np.flip(arr)\n",
    "print(\"Reversed array\", arr)"
   ]
  },
  {
   "cell_type": "code",
   "execution_count": null,
   "id": "309b5311-cf29-483a-98da-bbc5811e61b2",
   "metadata": {},
   "outputs": [],
   "source": []
  }
 ],
 "metadata": {
  "kernelspec": {
   "display_name": "Python 3 (ipykernel)",
   "language": "python",
   "name": "python3"
  },
  "language_info": {
   "codemirror_mode": {
    "name": "ipython",
    "version": 3
   },
   "file_extension": ".py",
   "mimetype": "text/x-python",
   "name": "python",
   "nbconvert_exporter": "python",
   "pygments_lexer": "ipython3",
   "version": "3.12.4"
  }
 },
 "nbformat": 4,
 "nbformat_minor": 5
}
