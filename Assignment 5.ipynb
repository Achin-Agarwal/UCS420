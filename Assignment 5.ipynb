{
 "cells": [
  {
   "cell_type": "code",
   "execution_count": 1,
   "id": "d9e1efbf-8d7d-48b6-b57f-6f3711112440",
   "metadata": {},
   "outputs": [],
   "source": [
    "import numpy as np"
   ]
  },
  {
   "cell_type": "markdown",
   "id": "684b7506-ec38-4eb2-bb31-9c453c2d689d",
   "metadata": {},
   "source": [
    "### Q.1 For the array gfg = np.matrix('[4, 1, 9; 12, 3, 1; 4, 5, 6]'), Find\n",
    "### i. Sum of all elements \n",
    "### ii. Sum of all elements row-wise \n",
    "### iii. Sum of all elements column-wise"
   ]
  },
  {
   "cell_type": "code",
   "execution_count": null,
   "id": "3444fe30-ab8f-473f-b9da-ccc291aff611",
   "metadata": {},
   "outputs": [],
   "source": []
  }
 ],
 "metadata": {
  "kernelspec": {
   "display_name": "Python 3 (ipykernel)",
   "language": "python",
   "name": "python3"
  },
  "language_info": {
   "codemirror_mode": {
    "name": "ipython",
    "version": 3
   },
   "file_extension": ".py",
   "mimetype": "text/x-python",
   "name": "python",
   "nbconvert_exporter": "python",
   "pygments_lexer": "ipython3",
   "version": "3.12.4"
  }
 },
 "nbformat": 4,
 "nbformat_minor": 5
}
